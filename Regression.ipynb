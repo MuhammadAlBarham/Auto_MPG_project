{
 "cells": [
  {
   "cell_type": "markdown",
   "id": "b5b59124",
   "metadata": {},
   "source": [
    "## Basic regression: Predict fuel efficiency"
   ]
  },
  {
   "cell_type": "code",
   "execution_count": 1,
   "id": "fb5a651a",
   "metadata": {},
   "outputs": [],
   "source": [
    "# Just to see the a pretty table of content, you can install jupyter notebook extensions\n",
    "# Uncomment the below line\n",
    "#!pip install jupyter_contrib_nbextensions && jupyter contrib nbextension install "
   ]
  },
  {
   "cell_type": "code",
   "execution_count": 2,
   "id": "9e478a56",
   "metadata": {},
   "outputs": [],
   "source": [
    "# Basic regression to predict fuel efficiency\n",
    "# Code is based on this tutorial: https://www.tensorflow.org/tutorials/keras/regression\n",
    "import os\n",
    "os.environ['TF_CPP_MIN_LOG_LEVEL'] = '2'\n",
    "\n",
    "import matplotlib.pyplot as plt\n",
    "import numpy as np\n",
    "import pandas as pd # pip install pandas\n",
    "\n",
    "# Make numpy printouts easier to read.\n",
    "np.set_printoptions(precision=3, suppress=True)"
   ]
  },
  {
   "cell_type": "code",
   "execution_count": 3,
   "id": "f02d01ca",
   "metadata": {},
   "outputs": [],
   "source": [
    "import tensorflow as tf\n",
    "\n",
    "from tensorflow import keras\n",
    "from tensorflow.keras import layers\n",
    "from tensorflow.keras.layers.experimental import preprocessing\n",
    "import seaborn as sns"
   ]
  },
  {
   "cell_type": "code",
   "execution_count": 4,
   "id": "bc178c05",
   "metadata": {},
   "outputs": [],
   "source": [
    "# Use seaborn for pairplot.\n",
    "# If you  want to investigate the relationship between different variables, uncomment the following line to install seaborn\n",
    "# !pip install -q seaborn"
   ]
  },
  {
   "cell_type": "code",
   "execution_count": 5,
   "id": "053ce5e0",
   "metadata": {},
   "outputs": [
    {
     "data": {
      "text/plain": [
       "('2.7.0', '2.7.0')"
      ]
     },
     "execution_count": 5,
     "metadata": {},
     "output_type": "execute_result"
    }
   ],
   "source": [
    "# Check tf & keras versions, this will be helpfull if you get errors and you need to check the doc or other resources\n",
    "\n",
    "tf.__version__, keras.__version__"
   ]
  },
  {
   "cell_type": "markdown",
   "id": "aca3004e",
   "metadata": {},
   "source": [
    "## Data loading"
   ]
  },
  {
   "cell_type": "code",
   "execution_count": 6,
   "id": "9188633c",
   "metadata": {},
   "outputs": [],
   "source": [
    "# https://archive.ics.uci.edu/ml/datasets/Auto+MPG\n",
    "url = 'http://archive.ics.uci.edu/ml/machine-learning-databases/auto-mpg/auto-mpg.data'\n",
    "\n",
    "# We have 8 columns\n",
    "column_names = ['MPG', 'Cylinders', 'Displacement', 'Horsepower', 'Weight',\n",
    "                'Acceleration', 'Model Year', 'Origin']\n",
    "\n",
    "\n",
    "# Read more about the options\n",
    "# https://pandas.pydata.org/docs/reference/api/pandas.read_csv.html\n",
    "dataset = pd.read_csv(url, names=column_names, na_values='?',comment='\\t', sep=' ', skipinitialspace=True)"
   ]
  },
  {
   "cell_type": "code",
   "execution_count": 7,
   "id": "00f07601",
   "metadata": {},
   "outputs": [
    {
     "name": "stdout",
     "output_type": "stream",
     "text": [
      "<class 'pandas.core.frame.DataFrame'>\n",
      "RangeIndex: 398 entries, 0 to 397\n",
      "Data columns (total 8 columns):\n",
      " #   Column        Non-Null Count  Dtype  \n",
      "---  ------        --------------  -----  \n",
      " 0   MPG           398 non-null    float64\n",
      " 1   Cylinders     398 non-null    int64  \n",
      " 2   Displacement  398 non-null    float64\n",
      " 3   Horsepower    392 non-null    float64\n",
      " 4   Weight        398 non-null    float64\n",
      " 5   Acceleration  398 non-null    float64\n",
      " 6   Model Year    398 non-null    int64  \n",
      " 7   Origin        398 non-null    int64  \n",
      "dtypes: float64(5), int64(3)\n",
      "memory usage: 25.0 KB\n",
      "None\n"
     ]
    }
   ],
   "source": [
    "# check the data frame info\n",
    "# Note that Horsepower has 6 missign values\n",
    "print(dataset.info())"
   ]
  },
  {
   "cell_type": "code",
   "execution_count": 8,
   "id": "270e4846",
   "metadata": {},
   "outputs": [
    {
     "data": {
      "text/html": [
       "<div>\n",
       "<style scoped>\n",
       "    .dataframe tbody tr th:only-of-type {\n",
       "        vertical-align: middle;\n",
       "    }\n",
       "\n",
       "    .dataframe tbody tr th {\n",
       "        vertical-align: top;\n",
       "    }\n",
       "\n",
       "    .dataframe thead th {\n",
       "        text-align: right;\n",
       "    }\n",
       "</style>\n",
       "<table border=\"1\" class=\"dataframe\">\n",
       "  <thead>\n",
       "    <tr style=\"text-align: right;\">\n",
       "      <th></th>\n",
       "      <th>MPG</th>\n",
       "      <th>Cylinders</th>\n",
       "      <th>Displacement</th>\n",
       "      <th>Horsepower</th>\n",
       "      <th>Weight</th>\n",
       "      <th>Acceleration</th>\n",
       "      <th>Model Year</th>\n",
       "      <th>Origin</th>\n",
       "    </tr>\n",
       "  </thead>\n",
       "  <tbody>\n",
       "    <tr>\n",
       "      <th>388</th>\n",
       "      <td>26.0</td>\n",
       "      <td>4</td>\n",
       "      <td>156.0</td>\n",
       "      <td>92.0</td>\n",
       "      <td>2585.0</td>\n",
       "      <td>14.5</td>\n",
       "      <td>82</td>\n",
       "      <td>1</td>\n",
       "    </tr>\n",
       "    <tr>\n",
       "      <th>389</th>\n",
       "      <td>22.0</td>\n",
       "      <td>6</td>\n",
       "      <td>232.0</td>\n",
       "      <td>112.0</td>\n",
       "      <td>2835.0</td>\n",
       "      <td>14.7</td>\n",
       "      <td>82</td>\n",
       "      <td>1</td>\n",
       "    </tr>\n",
       "    <tr>\n",
       "      <th>390</th>\n",
       "      <td>32.0</td>\n",
       "      <td>4</td>\n",
       "      <td>144.0</td>\n",
       "      <td>96.0</td>\n",
       "      <td>2665.0</td>\n",
       "      <td>13.9</td>\n",
       "      <td>82</td>\n",
       "      <td>3</td>\n",
       "    </tr>\n",
       "    <tr>\n",
       "      <th>391</th>\n",
       "      <td>36.0</td>\n",
       "      <td>4</td>\n",
       "      <td>135.0</td>\n",
       "      <td>84.0</td>\n",
       "      <td>2370.0</td>\n",
       "      <td>13.0</td>\n",
       "      <td>82</td>\n",
       "      <td>1</td>\n",
       "    </tr>\n",
       "    <tr>\n",
       "      <th>392</th>\n",
       "      <td>27.0</td>\n",
       "      <td>4</td>\n",
       "      <td>151.0</td>\n",
       "      <td>90.0</td>\n",
       "      <td>2950.0</td>\n",
       "      <td>17.3</td>\n",
       "      <td>82</td>\n",
       "      <td>1</td>\n",
       "    </tr>\n",
       "    <tr>\n",
       "      <th>393</th>\n",
       "      <td>27.0</td>\n",
       "      <td>4</td>\n",
       "      <td>140.0</td>\n",
       "      <td>86.0</td>\n",
       "      <td>2790.0</td>\n",
       "      <td>15.6</td>\n",
       "      <td>82</td>\n",
       "      <td>1</td>\n",
       "    </tr>\n",
       "    <tr>\n",
       "      <th>394</th>\n",
       "      <td>44.0</td>\n",
       "      <td>4</td>\n",
       "      <td>97.0</td>\n",
       "      <td>52.0</td>\n",
       "      <td>2130.0</td>\n",
       "      <td>24.6</td>\n",
       "      <td>82</td>\n",
       "      <td>2</td>\n",
       "    </tr>\n",
       "    <tr>\n",
       "      <th>395</th>\n",
       "      <td>32.0</td>\n",
       "      <td>4</td>\n",
       "      <td>135.0</td>\n",
       "      <td>84.0</td>\n",
       "      <td>2295.0</td>\n",
       "      <td>11.6</td>\n",
       "      <td>82</td>\n",
       "      <td>1</td>\n",
       "    </tr>\n",
       "    <tr>\n",
       "      <th>396</th>\n",
       "      <td>28.0</td>\n",
       "      <td>4</td>\n",
       "      <td>120.0</td>\n",
       "      <td>79.0</td>\n",
       "      <td>2625.0</td>\n",
       "      <td>18.6</td>\n",
       "      <td>82</td>\n",
       "      <td>1</td>\n",
       "    </tr>\n",
       "    <tr>\n",
       "      <th>397</th>\n",
       "      <td>31.0</td>\n",
       "      <td>4</td>\n",
       "      <td>119.0</td>\n",
       "      <td>82.0</td>\n",
       "      <td>2720.0</td>\n",
       "      <td>19.4</td>\n",
       "      <td>82</td>\n",
       "      <td>1</td>\n",
       "    </tr>\n",
       "  </tbody>\n",
       "</table>\n",
       "</div>"
      ],
      "text/plain": [
       "      MPG  Cylinders  Displacement  Horsepower  Weight  Acceleration  \\\n",
       "388  26.0          4         156.0        92.0  2585.0          14.5   \n",
       "389  22.0          6         232.0       112.0  2835.0          14.7   \n",
       "390  32.0          4         144.0        96.0  2665.0          13.9   \n",
       "391  36.0          4         135.0        84.0  2370.0          13.0   \n",
       "392  27.0          4         151.0        90.0  2950.0          17.3   \n",
       "393  27.0          4         140.0        86.0  2790.0          15.6   \n",
       "394  44.0          4          97.0        52.0  2130.0          24.6   \n",
       "395  32.0          4         135.0        84.0  2295.0          11.6   \n",
       "396  28.0          4         120.0        79.0  2625.0          18.6   \n",
       "397  31.0          4         119.0        82.0  2720.0          19.4   \n",
       "\n",
       "     Model Year  Origin  \n",
       "388          82       1  \n",
       "389          82       1  \n",
       "390          82       3  \n",
       "391          82       1  \n",
       "392          82       1  \n",
       "393          82       1  \n",
       "394          82       2  \n",
       "395          82       1  \n",
       "396          82       1  \n",
       "397          82       1  "
      ]
     },
     "execution_count": 8,
     "metadata": {},
     "output_type": "execute_result"
    }
   ],
   "source": [
    "# Print the last 10 rows\n",
    "dataset.tail(10)"
   ]
  },
  {
   "cell_type": "code",
   "execution_count": 9,
   "id": "f3322fa3",
   "metadata": {},
   "outputs": [
    {
     "data": {
      "text/html": [
       "<div>\n",
       "<style scoped>\n",
       "    .dataframe tbody tr th:only-of-type {\n",
       "        vertical-align: middle;\n",
       "    }\n",
       "\n",
       "    .dataframe tbody tr th {\n",
       "        vertical-align: top;\n",
       "    }\n",
       "\n",
       "    .dataframe thead th {\n",
       "        text-align: right;\n",
       "    }\n",
       "</style>\n",
       "<table border=\"1\" class=\"dataframe\">\n",
       "  <thead>\n",
       "    <tr style=\"text-align: right;\">\n",
       "      <th></th>\n",
       "      <th>MPG</th>\n",
       "      <th>Cylinders</th>\n",
       "      <th>Displacement</th>\n",
       "      <th>Horsepower</th>\n",
       "      <th>Weight</th>\n",
       "      <th>Acceleration</th>\n",
       "      <th>Model Year</th>\n",
       "      <th>Origin</th>\n",
       "    </tr>\n",
       "  </thead>\n",
       "  <tbody>\n",
       "    <tr>\n",
       "      <th>0</th>\n",
       "      <td>18.0</td>\n",
       "      <td>8</td>\n",
       "      <td>307.0</td>\n",
       "      <td>130.0</td>\n",
       "      <td>3504.0</td>\n",
       "      <td>12.0</td>\n",
       "      <td>70</td>\n",
       "      <td>1</td>\n",
       "    </tr>\n",
       "    <tr>\n",
       "      <th>1</th>\n",
       "      <td>15.0</td>\n",
       "      <td>8</td>\n",
       "      <td>350.0</td>\n",
       "      <td>165.0</td>\n",
       "      <td>3693.0</td>\n",
       "      <td>11.5</td>\n",
       "      <td>70</td>\n",
       "      <td>1</td>\n",
       "    </tr>\n",
       "    <tr>\n",
       "      <th>2</th>\n",
       "      <td>18.0</td>\n",
       "      <td>8</td>\n",
       "      <td>318.0</td>\n",
       "      <td>150.0</td>\n",
       "      <td>3436.0</td>\n",
       "      <td>11.0</td>\n",
       "      <td>70</td>\n",
       "      <td>1</td>\n",
       "    </tr>\n",
       "    <tr>\n",
       "      <th>3</th>\n",
       "      <td>16.0</td>\n",
       "      <td>8</td>\n",
       "      <td>304.0</td>\n",
       "      <td>150.0</td>\n",
       "      <td>3433.0</td>\n",
       "      <td>12.0</td>\n",
       "      <td>70</td>\n",
       "      <td>1</td>\n",
       "    </tr>\n",
       "    <tr>\n",
       "      <th>4</th>\n",
       "      <td>17.0</td>\n",
       "      <td>8</td>\n",
       "      <td>302.0</td>\n",
       "      <td>140.0</td>\n",
       "      <td>3449.0</td>\n",
       "      <td>10.5</td>\n",
       "      <td>70</td>\n",
       "      <td>1</td>\n",
       "    </tr>\n",
       "    <tr>\n",
       "      <th>5</th>\n",
       "      <td>15.0</td>\n",
       "      <td>8</td>\n",
       "      <td>429.0</td>\n",
       "      <td>198.0</td>\n",
       "      <td>4341.0</td>\n",
       "      <td>10.0</td>\n",
       "      <td>70</td>\n",
       "      <td>1</td>\n",
       "    </tr>\n",
       "    <tr>\n",
       "      <th>6</th>\n",
       "      <td>14.0</td>\n",
       "      <td>8</td>\n",
       "      <td>454.0</td>\n",
       "      <td>220.0</td>\n",
       "      <td>4354.0</td>\n",
       "      <td>9.0</td>\n",
       "      <td>70</td>\n",
       "      <td>1</td>\n",
       "    </tr>\n",
       "    <tr>\n",
       "      <th>7</th>\n",
       "      <td>14.0</td>\n",
       "      <td>8</td>\n",
       "      <td>440.0</td>\n",
       "      <td>215.0</td>\n",
       "      <td>4312.0</td>\n",
       "      <td>8.5</td>\n",
       "      <td>70</td>\n",
       "      <td>1</td>\n",
       "    </tr>\n",
       "    <tr>\n",
       "      <th>8</th>\n",
       "      <td>14.0</td>\n",
       "      <td>8</td>\n",
       "      <td>455.0</td>\n",
       "      <td>225.0</td>\n",
       "      <td>4425.0</td>\n",
       "      <td>10.0</td>\n",
       "      <td>70</td>\n",
       "      <td>1</td>\n",
       "    </tr>\n",
       "    <tr>\n",
       "      <th>9</th>\n",
       "      <td>15.0</td>\n",
       "      <td>8</td>\n",
       "      <td>390.0</td>\n",
       "      <td>190.0</td>\n",
       "      <td>3850.0</td>\n",
       "      <td>8.5</td>\n",
       "      <td>70</td>\n",
       "      <td>1</td>\n",
       "    </tr>\n",
       "  </tbody>\n",
       "</table>\n",
       "</div>"
      ],
      "text/plain": [
       "    MPG  Cylinders  Displacement  Horsepower  Weight  Acceleration  \\\n",
       "0  18.0          8         307.0       130.0  3504.0          12.0   \n",
       "1  15.0          8         350.0       165.0  3693.0          11.5   \n",
       "2  18.0          8         318.0       150.0  3436.0          11.0   \n",
       "3  16.0          8         304.0       150.0  3433.0          12.0   \n",
       "4  17.0          8         302.0       140.0  3449.0          10.5   \n",
       "5  15.0          8         429.0       198.0  4341.0          10.0   \n",
       "6  14.0          8         454.0       220.0  4354.0           9.0   \n",
       "7  14.0          8         440.0       215.0  4312.0           8.5   \n",
       "8  14.0          8         455.0       225.0  4425.0          10.0   \n",
       "9  15.0          8         390.0       190.0  3850.0           8.5   \n",
       "\n",
       "   Model Year  Origin  \n",
       "0          70       1  \n",
       "1          70       1  \n",
       "2          70       1  \n",
       "3          70       1  \n",
       "4          70       1  \n",
       "5          70       1  \n",
       "6          70       1  \n",
       "7          70       1  \n",
       "8          70       1  \n",
       "9          70       1  "
      ]
     },
     "execution_count": 9,
     "metadata": {},
     "output_type": "execute_result"
    }
   ],
   "source": [
    "# Print the first 10 rows\n",
    "dataset.head(10)"
   ]
  },
  {
   "cell_type": "code",
   "execution_count": 10,
   "id": "14151ec0",
   "metadata": {},
   "outputs": [],
   "source": [
    "# To test your parameters, it is better to write the data to a new file and see the difference with original one!!\n",
    "\n",
    "dataset.to_csv('new_dataset.csv', encoding='utf-8')"
   ]
  },
  {
   "cell_type": "markdown",
   "id": "2a6378fe",
   "metadata": {},
   "source": [
    "## Data preprocessing"
   ]
  },
  {
   "cell_type": "code",
   "execution_count": 11,
   "id": "f7fa281a",
   "metadata": {},
   "outputs": [
    {
     "data": {
      "text/plain": [
       "MPG             0\n",
       "Cylinders       0\n",
       "Displacement    0\n",
       "Horsepower      6\n",
       "Weight          0\n",
       "Acceleration    0\n",
       "Model Year      0\n",
       "Origin          0\n",
       "dtype: int64"
      ]
     },
     "execution_count": 11,
     "metadata": {},
     "output_type": "execute_result"
    }
   ],
   "source": [
    "# Summ the unknown values \n",
    "dataset.isna().sum()"
   ]
  },
  {
   "cell_type": "code",
   "execution_count": 12,
   "id": "cb03a82e",
   "metadata": {},
   "outputs": [
    {
     "data": {
      "text/plain": [
       "pandas.core.frame.DataFrame"
      ]
     },
     "execution_count": 12,
     "metadata": {},
     "output_type": "execute_result"
    }
   ],
   "source": [
    "# Check the type of the dataset\n",
    "type(dataset)"
   ]
  },
  {
   "cell_type": "code",
   "execution_count": 13,
   "id": "dfd65f9f",
   "metadata": {},
   "outputs": [
    {
     "data": {
      "text/html": [
       "<div>\n",
       "<style scoped>\n",
       "    .dataframe tbody tr th:only-of-type {\n",
       "        vertical-align: middle;\n",
       "    }\n",
       "\n",
       "    .dataframe tbody tr th {\n",
       "        vertical-align: top;\n",
       "    }\n",
       "\n",
       "    .dataframe thead th {\n",
       "        text-align: right;\n",
       "    }\n",
       "</style>\n",
       "<table border=\"1\" class=\"dataframe\">\n",
       "  <thead>\n",
       "    <tr style=\"text-align: right;\">\n",
       "      <th></th>\n",
       "      <th>MPG</th>\n",
       "      <th>Cylinders</th>\n",
       "      <th>Displacement</th>\n",
       "      <th>Horsepower</th>\n",
       "      <th>Weight</th>\n",
       "      <th>Acceleration</th>\n",
       "      <th>Model Year</th>\n",
       "      <th>Origin</th>\n",
       "    </tr>\n",
       "  </thead>\n",
       "  <tbody>\n",
       "    <tr>\n",
       "      <th>32</th>\n",
       "      <td>25.0</td>\n",
       "      <td>4</td>\n",
       "      <td>98.0</td>\n",
       "      <td>NaN</td>\n",
       "      <td>2046.0</td>\n",
       "      <td>19.0</td>\n",
       "      <td>71</td>\n",
       "      <td>1</td>\n",
       "    </tr>\n",
       "    <tr>\n",
       "      <th>126</th>\n",
       "      <td>21.0</td>\n",
       "      <td>6</td>\n",
       "      <td>200.0</td>\n",
       "      <td>NaN</td>\n",
       "      <td>2875.0</td>\n",
       "      <td>17.0</td>\n",
       "      <td>74</td>\n",
       "      <td>1</td>\n",
       "    </tr>\n",
       "    <tr>\n",
       "      <th>330</th>\n",
       "      <td>40.9</td>\n",
       "      <td>4</td>\n",
       "      <td>85.0</td>\n",
       "      <td>NaN</td>\n",
       "      <td>1835.0</td>\n",
       "      <td>17.3</td>\n",
       "      <td>80</td>\n",
       "      <td>2</td>\n",
       "    </tr>\n",
       "    <tr>\n",
       "      <th>336</th>\n",
       "      <td>23.6</td>\n",
       "      <td>4</td>\n",
       "      <td>140.0</td>\n",
       "      <td>NaN</td>\n",
       "      <td>2905.0</td>\n",
       "      <td>14.3</td>\n",
       "      <td>80</td>\n",
       "      <td>1</td>\n",
       "    </tr>\n",
       "    <tr>\n",
       "      <th>354</th>\n",
       "      <td>34.5</td>\n",
       "      <td>4</td>\n",
       "      <td>100.0</td>\n",
       "      <td>NaN</td>\n",
       "      <td>2320.0</td>\n",
       "      <td>15.8</td>\n",
       "      <td>81</td>\n",
       "      <td>2</td>\n",
       "    </tr>\n",
       "    <tr>\n",
       "      <th>374</th>\n",
       "      <td>23.0</td>\n",
       "      <td>4</td>\n",
       "      <td>151.0</td>\n",
       "      <td>NaN</td>\n",
       "      <td>3035.0</td>\n",
       "      <td>20.5</td>\n",
       "      <td>82</td>\n",
       "      <td>1</td>\n",
       "    </tr>\n",
       "  </tbody>\n",
       "</table>\n",
       "</div>"
      ],
      "text/plain": [
       "      MPG  Cylinders  Displacement  Horsepower  Weight  Acceleration  \\\n",
       "32   25.0          4          98.0         NaN  2046.0          19.0   \n",
       "126  21.0          6         200.0         NaN  2875.0          17.0   \n",
       "330  40.9          4          85.0         NaN  1835.0          17.3   \n",
       "336  23.6          4         140.0         NaN  2905.0          14.3   \n",
       "354  34.5          4         100.0         NaN  2320.0          15.8   \n",
       "374  23.0          4         151.0         NaN  3035.0          20.5   \n",
       "\n",
       "     Model Year  Origin  \n",
       "32           71       1  \n",
       "126          74       1  \n",
       "330          80       2  \n",
       "336          80       1  \n",
       "354          81       2  \n",
       "374          82       1  "
      ]
     },
     "execution_count": 13,
     "metadata": {},
     "output_type": "execute_result"
    }
   ],
   "source": [
    "# print the rows with NaN values\n",
    "\n",
    "dataset[dataset.isnull().any(axis=1)]"
   ]
  },
  {
   "cell_type": "code",
   "execution_count": 14,
   "id": "74ccdba4",
   "metadata": {},
   "outputs": [],
   "source": [
    "# I am sad, we have 6 NaN values. Ahhhhhhha, we need to remove them to make the project easier"
   ]
  },
  {
   "cell_type": "code",
   "execution_count": 15,
   "id": "28b4cd7a",
   "metadata": {},
   "outputs": [],
   "source": [
    "# Remove rows with NaN values\n",
    "# Remove missing values.\n",
    "\n",
    "dataset = dataset.dropna()"
   ]
  },
  {
   "cell_type": "code",
   "execution_count": 16,
   "id": "06f3ccfa",
   "metadata": {},
   "outputs": [
    {
     "data": {
      "text/html": [
       "<div>\n",
       "<style scoped>\n",
       "    .dataframe tbody tr th:only-of-type {\n",
       "        vertical-align: middle;\n",
       "    }\n",
       "\n",
       "    .dataframe tbody tr th {\n",
       "        vertical-align: top;\n",
       "    }\n",
       "\n",
       "    .dataframe thead th {\n",
       "        text-align: right;\n",
       "    }\n",
       "</style>\n",
       "<table border=\"1\" class=\"dataframe\">\n",
       "  <thead>\n",
       "    <tr style=\"text-align: right;\">\n",
       "      <th></th>\n",
       "      <th>MPG</th>\n",
       "      <th>Cylinders</th>\n",
       "      <th>Displacement</th>\n",
       "      <th>Horsepower</th>\n",
       "      <th>Weight</th>\n",
       "      <th>Acceleration</th>\n",
       "      <th>Model Year</th>\n",
       "      <th>Origin</th>\n",
       "    </tr>\n",
       "  </thead>\n",
       "  <tbody>\n",
       "  </tbody>\n",
       "</table>\n",
       "</div>"
      ],
      "text/plain": [
       "Empty DataFrame\n",
       "Columns: [MPG, Cylinders, Displacement, Horsepower, Weight, Acceleration, Model Year, Origin]\n",
       "Index: []"
      ]
     },
     "execution_count": 16,
     "metadata": {},
     "output_type": "execute_result"
    }
   ],
   "source": [
    "# print the rows with NaN values\n",
    "\n",
    "dataset[dataset.isnull().any(axis=1)]"
   ]
  },
  {
   "cell_type": "code",
   "execution_count": 17,
   "id": "f86d71ee",
   "metadata": {},
   "outputs": [],
   "source": [
    "# Great, now the data is cleaned from Naaan values ....\n",
    "# Let's continue and have more fun ...."
   ]
  },
  {
   "cell_type": "code",
   "execution_count": 18,
   "id": "41b35cd7",
   "metadata": {},
   "outputs": [
    {
     "data": {
      "text/plain": [
       "array([1, 3, 2])"
      ]
     },
     "execution_count": 18,
     "metadata": {},
     "output_type": "execute_result"
    }
   ],
   "source": [
    "# Get the unique values (categories) from the Origin column\n",
    "\n",
    "dataset['Origin'].unique()"
   ]
  },
  {
   "cell_type": "code",
   "execution_count": 19,
   "id": "d70157f6",
   "metadata": {},
   "outputs": [
    {
     "data": {
      "text/plain": [
       "0      1\n",
       "1      1\n",
       "2      1\n",
       "3      1\n",
       "4      1\n",
       "      ..\n",
       "393    1\n",
       "394    2\n",
       "395    1\n",
       "396    1\n",
       "397    1\n",
       "Name: Origin, Length: 392, dtype: int64"
      ]
     },
     "execution_count": 19,
     "metadata": {},
     "output_type": "execute_result"
    }
   ],
   "source": [
    "# Convert Categorical 'Origin' data into one-hot encode format\n",
    "# Remove the Origin column from the dataset and save it on origin\n",
    "\n",
    "origin = dataset.pop('Origin')\n",
    "origin"
   ]
  },
  {
   "cell_type": "code",
   "execution_count": 20,
   "id": "6b5ceb2e",
   "metadata": {},
   "outputs": [
    {
     "data": {
      "text/html": [
       "<div>\n",
       "<style scoped>\n",
       "    .dataframe tbody tr th:only-of-type {\n",
       "        vertical-align: middle;\n",
       "    }\n",
       "\n",
       "    .dataframe tbody tr th {\n",
       "        vertical-align: top;\n",
       "    }\n",
       "\n",
       "    .dataframe thead th {\n",
       "        text-align: right;\n",
       "    }\n",
       "</style>\n",
       "<table border=\"1\" class=\"dataframe\">\n",
       "  <thead>\n",
       "    <tr style=\"text-align: right;\">\n",
       "      <th></th>\n",
       "      <th>MPG</th>\n",
       "      <th>Cylinders</th>\n",
       "      <th>Displacement</th>\n",
       "      <th>Horsepower</th>\n",
       "      <th>Weight</th>\n",
       "      <th>Acceleration</th>\n",
       "      <th>Model Year</th>\n",
       "    </tr>\n",
       "  </thead>\n",
       "  <tbody>\n",
       "    <tr>\n",
       "      <th>0</th>\n",
       "      <td>18.0</td>\n",
       "      <td>8</td>\n",
       "      <td>307.0</td>\n",
       "      <td>130.0</td>\n",
       "      <td>3504.0</td>\n",
       "      <td>12.0</td>\n",
       "      <td>70</td>\n",
       "    </tr>\n",
       "    <tr>\n",
       "      <th>1</th>\n",
       "      <td>15.0</td>\n",
       "      <td>8</td>\n",
       "      <td>350.0</td>\n",
       "      <td>165.0</td>\n",
       "      <td>3693.0</td>\n",
       "      <td>11.5</td>\n",
       "      <td>70</td>\n",
       "    </tr>\n",
       "    <tr>\n",
       "      <th>2</th>\n",
       "      <td>18.0</td>\n",
       "      <td>8</td>\n",
       "      <td>318.0</td>\n",
       "      <td>150.0</td>\n",
       "      <td>3436.0</td>\n",
       "      <td>11.0</td>\n",
       "      <td>70</td>\n",
       "    </tr>\n",
       "    <tr>\n",
       "      <th>3</th>\n",
       "      <td>16.0</td>\n",
       "      <td>8</td>\n",
       "      <td>304.0</td>\n",
       "      <td>150.0</td>\n",
       "      <td>3433.0</td>\n",
       "      <td>12.0</td>\n",
       "      <td>70</td>\n",
       "    </tr>\n",
       "    <tr>\n",
       "      <th>4</th>\n",
       "      <td>17.0</td>\n",
       "      <td>8</td>\n",
       "      <td>302.0</td>\n",
       "      <td>140.0</td>\n",
       "      <td>3449.0</td>\n",
       "      <td>10.5</td>\n",
       "      <td>70</td>\n",
       "    </tr>\n",
       "  </tbody>\n",
       "</table>\n",
       "</div>"
      ],
      "text/plain": [
       "    MPG  Cylinders  Displacement  Horsepower  Weight  Acceleration  Model Year\n",
       "0  18.0          8         307.0       130.0  3504.0          12.0          70\n",
       "1  15.0          8         350.0       165.0  3693.0          11.5          70\n",
       "2  18.0          8         318.0       150.0  3436.0          11.0          70\n",
       "3  16.0          8         304.0       150.0  3433.0          12.0          70\n",
       "4  17.0          8         302.0       140.0  3449.0          10.5          70"
      ]
     },
     "execution_count": 20,
     "metadata": {},
     "output_type": "execute_result"
    }
   ],
   "source": [
    "# Check the dataset now\n",
    "\n",
    "dataset.head()"
   ]
  },
  {
   "cell_type": "code",
   "execution_count": 21,
   "id": "e6422306",
   "metadata": {},
   "outputs": [],
   "source": [
    "# Awesome, the origin is cleaned"
   ]
  },
  {
   "cell_type": "code",
   "execution_count": 22,
   "id": "0f2deda0",
   "metadata": {},
   "outputs": [],
   "source": [
    "# Add 3 columns to the dataset\n",
    "dataset['USA'] = (origin == 1) * 1 # To convert True to 1 and False to 0\n",
    "dataset['Europe'] = (origin == 2) * 1  \n",
    "dataset['Japan'] = (origin == 3) *1"
   ]
  },
  {
   "cell_type": "code",
   "execution_count": 23,
   "id": "cd526f57",
   "metadata": {},
   "outputs": [
    {
     "data": {
      "text/html": [
       "<div>\n",
       "<style scoped>\n",
       "    .dataframe tbody tr th:only-of-type {\n",
       "        vertical-align: middle;\n",
       "    }\n",
       "\n",
       "    .dataframe tbody tr th {\n",
       "        vertical-align: top;\n",
       "    }\n",
       "\n",
       "    .dataframe thead th {\n",
       "        text-align: right;\n",
       "    }\n",
       "</style>\n",
       "<table border=\"1\" class=\"dataframe\">\n",
       "  <thead>\n",
       "    <tr style=\"text-align: right;\">\n",
       "      <th></th>\n",
       "      <th>MPG</th>\n",
       "      <th>Cylinders</th>\n",
       "      <th>Displacement</th>\n",
       "      <th>Horsepower</th>\n",
       "      <th>Weight</th>\n",
       "      <th>Acceleration</th>\n",
       "      <th>Model Year</th>\n",
       "      <th>USA</th>\n",
       "      <th>Europe</th>\n",
       "      <th>Japan</th>\n",
       "    </tr>\n",
       "  </thead>\n",
       "  <tbody>\n",
       "    <tr>\n",
       "      <th>0</th>\n",
       "      <td>18.0</td>\n",
       "      <td>8</td>\n",
       "      <td>307.0</td>\n",
       "      <td>130.0</td>\n",
       "      <td>3504.0</td>\n",
       "      <td>12.0</td>\n",
       "      <td>70</td>\n",
       "      <td>1</td>\n",
       "      <td>0</td>\n",
       "      <td>0</td>\n",
       "    </tr>\n",
       "    <tr>\n",
       "      <th>1</th>\n",
       "      <td>15.0</td>\n",
       "      <td>8</td>\n",
       "      <td>350.0</td>\n",
       "      <td>165.0</td>\n",
       "      <td>3693.0</td>\n",
       "      <td>11.5</td>\n",
       "      <td>70</td>\n",
       "      <td>1</td>\n",
       "      <td>0</td>\n",
       "      <td>0</td>\n",
       "    </tr>\n",
       "    <tr>\n",
       "      <th>2</th>\n",
       "      <td>18.0</td>\n",
       "      <td>8</td>\n",
       "      <td>318.0</td>\n",
       "      <td>150.0</td>\n",
       "      <td>3436.0</td>\n",
       "      <td>11.0</td>\n",
       "      <td>70</td>\n",
       "      <td>1</td>\n",
       "      <td>0</td>\n",
       "      <td>0</td>\n",
       "    </tr>\n",
       "    <tr>\n",
       "      <th>3</th>\n",
       "      <td>16.0</td>\n",
       "      <td>8</td>\n",
       "      <td>304.0</td>\n",
       "      <td>150.0</td>\n",
       "      <td>3433.0</td>\n",
       "      <td>12.0</td>\n",
       "      <td>70</td>\n",
       "      <td>1</td>\n",
       "      <td>0</td>\n",
       "      <td>0</td>\n",
       "    </tr>\n",
       "    <tr>\n",
       "      <th>4</th>\n",
       "      <td>17.0</td>\n",
       "      <td>8</td>\n",
       "      <td>302.0</td>\n",
       "      <td>140.0</td>\n",
       "      <td>3449.0</td>\n",
       "      <td>10.5</td>\n",
       "      <td>70</td>\n",
       "      <td>1</td>\n",
       "      <td>0</td>\n",
       "      <td>0</td>\n",
       "    </tr>\n",
       "  </tbody>\n",
       "</table>\n",
       "</div>"
      ],
      "text/plain": [
       "    MPG  Cylinders  Displacement  Horsepower  Weight  Acceleration  \\\n",
       "0  18.0          8         307.0       130.0  3504.0          12.0   \n",
       "1  15.0          8         350.0       165.0  3693.0          11.5   \n",
       "2  18.0          8         318.0       150.0  3436.0          11.0   \n",
       "3  16.0          8         304.0       150.0  3433.0          12.0   \n",
       "4  17.0          8         302.0       140.0  3449.0          10.5   \n",
       "\n",
       "   Model Year  USA  Europe  Japan  \n",
       "0          70    1       0      0  \n",
       "1          70    1       0      0  \n",
       "2          70    1       0      0  \n",
       "3          70    1       0      0  \n",
       "4          70    1       0      0  "
      ]
     },
     "execution_count": 23,
     "metadata": {},
     "output_type": "execute_result"
    }
   ],
   "source": [
    "# Print the top 5 rows to see the new dataset\n",
    "dataset.head()"
   ]
  },
  {
   "cell_type": "code",
   "execution_count": 24,
   "id": "83088150",
   "metadata": {},
   "outputs": [
    {
     "data": {
      "text/html": [
       "<div>\n",
       "<style scoped>\n",
       "    .dataframe tbody tr th:only-of-type {\n",
       "        vertical-align: middle;\n",
       "    }\n",
       "\n",
       "    .dataframe tbody tr th {\n",
       "        vertical-align: top;\n",
       "    }\n",
       "\n",
       "    .dataframe thead th {\n",
       "        text-align: right;\n",
       "    }\n",
       "</style>\n",
       "<table border=\"1\" class=\"dataframe\">\n",
       "  <thead>\n",
       "    <tr style=\"text-align: right;\">\n",
       "      <th></th>\n",
       "      <th>MPG</th>\n",
       "      <th>Cylinders</th>\n",
       "      <th>Displacement</th>\n",
       "      <th>Horsepower</th>\n",
       "      <th>Weight</th>\n",
       "      <th>Acceleration</th>\n",
       "      <th>Model Year</th>\n",
       "      <th>USA</th>\n",
       "      <th>Europe</th>\n",
       "      <th>Japan</th>\n",
       "    </tr>\n",
       "  </thead>\n",
       "  <tbody>\n",
       "    <tr>\n",
       "      <th>14</th>\n",
       "      <td>24.0</td>\n",
       "      <td>4</td>\n",
       "      <td>113.0</td>\n",
       "      <td>95.0</td>\n",
       "      <td>2372.0</td>\n",
       "      <td>15.0</td>\n",
       "      <td>70</td>\n",
       "      <td>0</td>\n",
       "      <td>0</td>\n",
       "      <td>1</td>\n",
       "    </tr>\n",
       "    <tr>\n",
       "      <th>18</th>\n",
       "      <td>27.0</td>\n",
       "      <td>4</td>\n",
       "      <td>97.0</td>\n",
       "      <td>88.0</td>\n",
       "      <td>2130.0</td>\n",
       "      <td>14.5</td>\n",
       "      <td>70</td>\n",
       "      <td>0</td>\n",
       "      <td>0</td>\n",
       "      <td>1</td>\n",
       "    </tr>\n",
       "    <tr>\n",
       "      <th>29</th>\n",
       "      <td>27.0</td>\n",
       "      <td>4</td>\n",
       "      <td>97.0</td>\n",
       "      <td>88.0</td>\n",
       "      <td>2130.0</td>\n",
       "      <td>14.5</td>\n",
       "      <td>71</td>\n",
       "      <td>0</td>\n",
       "      <td>0</td>\n",
       "      <td>1</td>\n",
       "    </tr>\n",
       "    <tr>\n",
       "      <th>31</th>\n",
       "      <td>25.0</td>\n",
       "      <td>4</td>\n",
       "      <td>113.0</td>\n",
       "      <td>95.0</td>\n",
       "      <td>2228.0</td>\n",
       "      <td>14.0</td>\n",
       "      <td>71</td>\n",
       "      <td>0</td>\n",
       "      <td>0</td>\n",
       "      <td>1</td>\n",
       "    </tr>\n",
       "    <tr>\n",
       "      <th>53</th>\n",
       "      <td>31.0</td>\n",
       "      <td>4</td>\n",
       "      <td>71.0</td>\n",
       "      <td>65.0</td>\n",
       "      <td>1773.0</td>\n",
       "      <td>19.0</td>\n",
       "      <td>71</td>\n",
       "      <td>0</td>\n",
       "      <td>0</td>\n",
       "      <td>1</td>\n",
       "    </tr>\n",
       "    <tr>\n",
       "      <th>...</th>\n",
       "      <td>...</td>\n",
       "      <td>...</td>\n",
       "      <td>...</td>\n",
       "      <td>...</td>\n",
       "      <td>...</td>\n",
       "      <td>...</td>\n",
       "      <td>...</td>\n",
       "      <td>...</td>\n",
       "      <td>...</td>\n",
       "      <td>...</td>\n",
       "    </tr>\n",
       "    <tr>\n",
       "      <th>382</th>\n",
       "      <td>34.0</td>\n",
       "      <td>4</td>\n",
       "      <td>108.0</td>\n",
       "      <td>70.0</td>\n",
       "      <td>2245.0</td>\n",
       "      <td>16.9</td>\n",
       "      <td>82</td>\n",
       "      <td>0</td>\n",
       "      <td>0</td>\n",
       "      <td>1</td>\n",
       "    </tr>\n",
       "    <tr>\n",
       "      <th>383</th>\n",
       "      <td>38.0</td>\n",
       "      <td>4</td>\n",
       "      <td>91.0</td>\n",
       "      <td>67.0</td>\n",
       "      <td>1965.0</td>\n",
       "      <td>15.0</td>\n",
       "      <td>82</td>\n",
       "      <td>0</td>\n",
       "      <td>0</td>\n",
       "      <td>1</td>\n",
       "    </tr>\n",
       "    <tr>\n",
       "      <th>384</th>\n",
       "      <td>32.0</td>\n",
       "      <td>4</td>\n",
       "      <td>91.0</td>\n",
       "      <td>67.0</td>\n",
       "      <td>1965.0</td>\n",
       "      <td>15.7</td>\n",
       "      <td>82</td>\n",
       "      <td>0</td>\n",
       "      <td>0</td>\n",
       "      <td>1</td>\n",
       "    </tr>\n",
       "    <tr>\n",
       "      <th>385</th>\n",
       "      <td>38.0</td>\n",
       "      <td>4</td>\n",
       "      <td>91.0</td>\n",
       "      <td>67.0</td>\n",
       "      <td>1995.0</td>\n",
       "      <td>16.2</td>\n",
       "      <td>82</td>\n",
       "      <td>0</td>\n",
       "      <td>0</td>\n",
       "      <td>1</td>\n",
       "    </tr>\n",
       "    <tr>\n",
       "      <th>390</th>\n",
       "      <td>32.0</td>\n",
       "      <td>4</td>\n",
       "      <td>144.0</td>\n",
       "      <td>96.0</td>\n",
       "      <td>2665.0</td>\n",
       "      <td>13.9</td>\n",
       "      <td>82</td>\n",
       "      <td>0</td>\n",
       "      <td>0</td>\n",
       "      <td>1</td>\n",
       "    </tr>\n",
       "  </tbody>\n",
       "</table>\n",
       "<p>79 rows × 10 columns</p>\n",
       "</div>"
      ],
      "text/plain": [
       "      MPG  Cylinders  Displacement  Horsepower  Weight  Acceleration  \\\n",
       "14   24.0          4         113.0        95.0  2372.0          15.0   \n",
       "18   27.0          4          97.0        88.0  2130.0          14.5   \n",
       "29   27.0          4          97.0        88.0  2130.0          14.5   \n",
       "31   25.0          4         113.0        95.0  2228.0          14.0   \n",
       "53   31.0          4          71.0        65.0  1773.0          19.0   \n",
       "..    ...        ...           ...         ...     ...           ...   \n",
       "382  34.0          4         108.0        70.0  2245.0          16.9   \n",
       "383  38.0          4          91.0        67.0  1965.0          15.0   \n",
       "384  32.0          4          91.0        67.0  1965.0          15.7   \n",
       "385  38.0          4          91.0        67.0  1995.0          16.2   \n",
       "390  32.0          4         144.0        96.0  2665.0          13.9   \n",
       "\n",
       "     Model Year  USA  Europe  Japan  \n",
       "14           70    0       0      1  \n",
       "18           70    0       0      1  \n",
       "29           71    0       0      1  \n",
       "31           71    0       0      1  \n",
       "53           71    0       0      1  \n",
       "..          ...  ...     ...    ...  \n",
       "382          82    0       0      1  \n",
       "383          82    0       0      1  \n",
       "384          82    0       0      1  \n",
       "385          82    0       0      1  \n",
       "390          82    0       0      1  \n",
       "\n",
       "[79 rows x 10 columns]"
      ]
     },
     "execution_count": 24,
     "metadata": {},
     "output_type": "execute_result"
    }
   ],
   "source": [
    "# Check the rows that has Japan for example, just to make sure, hahahaaa.\n",
    "dataset[dataset['Japan'] == 1]"
   ]
  },
  {
   "cell_type": "markdown",
   "id": "83b89bfa",
   "metadata": {},
   "source": [
    "## Data Preperation and Splitting"
   ]
  },
  {
   "cell_type": "code",
   "execution_count": 25,
   "id": "9202c445",
   "metadata": {},
   "outputs": [],
   "source": [
    "# Split the data into train and test\n",
    "# .sample >> Return a random sample of items from an axis of object.\n",
    "# You can use random_state for reproducibility.\n",
    "# frac: 0.8 >> 80% of the data\n",
    "\n",
    "train_dataset = dataset.sample(frac=0.8, random_state=0)"
   ]
  },
  {
   "cell_type": "code",
   "execution_count": 26,
   "id": "5bf669f7",
   "metadata": {},
   "outputs": [
    {
     "name": "stdout",
     "output_type": "stream",
     "text": [
      "<class 'pandas.core.frame.DataFrame'>\n",
      "Int64Index: 314 entries, 146 to 182\n",
      "Data columns (total 10 columns):\n",
      " #   Column        Non-Null Count  Dtype  \n",
      "---  ------        --------------  -----  \n",
      " 0   MPG           314 non-null    float64\n",
      " 1   Cylinders     314 non-null    int64  \n",
      " 2   Displacement  314 non-null    float64\n",
      " 3   Horsepower    314 non-null    float64\n",
      " 4   Weight        314 non-null    float64\n",
      " 5   Acceleration  314 non-null    float64\n",
      " 6   Model Year    314 non-null    int64  \n",
      " 7   USA           314 non-null    int64  \n",
      " 8   Europe        314 non-null    int64  \n",
      " 9   Japan         314 non-null    int64  \n",
      "dtypes: float64(5), int64(5)\n",
      "memory usage: 27.0 KB\n"
     ]
    }
   ],
   "source": [
    "train_dataset.info()"
   ]
  },
  {
   "cell_type": "markdown",
   "id": "8e5bec0f",
   "metadata": {},
   "source": [
    "## Inspect the data"
   ]
  },
  {
   "cell_type": "code",
   "execution_count": 27,
   "id": "27f9d184",
   "metadata": {},
   "outputs": [],
   "source": [
    "import seaborn as sns"
   ]
  },
  {
   "cell_type": "code",
   "execution_count": 28,
   "id": "f837fe42",
   "metadata": {
    "scrolled": false
   },
   "outputs": [
    {
     "data": {
      "text/plain": [
       "<seaborn.axisgrid.PairGrid at 0x7f3505865d00>"
      ]
     },
     "execution_count": 28,
     "metadata": {},
     "output_type": "execute_result"
    },
    {
     "data": {
      "image/png": "[encoded data removed]",
      "text/plain": [
       "<Figure size 900x900 with 30 Axes>"
      ]
     },
     "metadata": {
      "needs_background": "light"
     },
     "output_type": "display_data"
    }
   ],
   "source": [
    "# Review the joint distribution of a few pairs of columns from the training set.\n",
    "\n",
    "\n",
    "sns.pairplot(train_dataset[['MPG', 'Cylinders', 'Displacement', 'Weight', 'Horsepower']], diag_kind='kde')\n"
   ]
  },
  {
   "cell_type": "code",
   "execution_count": 29,
   "id": "32141ac8",
   "metadata": {},
   "outputs": [],
   "source": [
    "#The top row suggests that the fuel efficiency (MPG) is a function of all the other parameters. \n",
    "#The other rows indicate they are functions of each other.\n",
    "\n",
    "# Make sense for us, what do you think?"
   ]
  },
  {
   "cell_type": "code",
   "execution_count": 30,
   "id": "6722d920",
   "metadata": {},
   "outputs": [
    {
     "data": {
      "text/plain": [
       "392"
      ]
     },
     "execution_count": 30,
     "metadata": {},
     "output_type": "execute_result"
    }
   ],
   "source": [
    "# The length of the full dataset\n",
    "len(dataset)"
   ]
  },
  {
   "cell_type": "code",
   "execution_count": 31,
   "id": "0194ccb2",
   "metadata": {},
   "outputs": [
    {
     "data": {
      "text/plain": [
       "314"
      ]
     },
     "execution_count": 31,
     "metadata": {},
     "output_type": "execute_result"
    }
   ],
   "source": [
    "# The length of the train dataset\n",
    "len(train_dataset)"
   ]
  },
  {
   "cell_type": "code",
   "execution_count": 32,
   "id": "25ee3f9e",
   "metadata": {},
   "outputs": [
    {
     "name": "stdout",
     "output_type": "stream",
     "text": [
      "The size of this sample is  0.8010204081632653\n"
     ]
    }
   ],
   "source": [
    "# Check the fraction of the dataset\n",
    "print(\"The size of this sample is \", train_dataset.size/dataset.size)"
   ]
  },
  {
   "cell_type": "code",
   "execution_count": 33,
   "id": "e1bc94b0",
   "metadata": {},
   "outputs": [
    {
     "data": {
      "text/plain": [
       "Int64Index([146, 282,  69, 378, 331, 257, 310, 328, 125, 108,\n",
       "            ...\n",
       "            171,  70, 307,  49, 209, 281, 229, 150, 145, 182],\n",
       "           dtype='int64', length=314)"
      ]
     },
     "execution_count": 33,
     "metadata": {},
     "output_type": "execute_result"
    }
   ],
   "source": [
    "# Check the indices\n",
    "train_dataset.index"
   ]
  },
  {
   "cell_type": "code",
   "execution_count": 34,
   "id": "b7363e04",
   "metadata": {},
   "outputs": [],
   "source": [
    "# Check some usefull information"
   ]
  },
  {
   "cell_type": "code",
   "execution_count": 35,
   "id": "51dcf083",
   "metadata": {},
   "outputs": [
    {
     "data": {
      "text/plain": [
       "pandas.core.frame.DataFrame"
      ]
     },
     "execution_count": 35,
     "metadata": {},
     "output_type": "execute_result"
    }
   ],
   "source": [
    "type(dataset)"
   ]
  },
  {
   "cell_type": "code",
   "execution_count": 36,
   "id": "b2bc1161",
   "metadata": {},
   "outputs": [],
   "source": [
    "# Create test dataset\n",
    "test_dataset = dataset.drop(train_dataset.index)"
   ]
  },
  {
   "cell_type": "code",
   "execution_count": 37,
   "id": "8c924806",
   "metadata": {},
   "outputs": [
    {
     "data": {
      "text/plain": [
       "78"
      ]
     },
     "execution_count": 37,
     "metadata": {},
     "output_type": "execute_result"
    }
   ],
   "source": [
    "# Print the length of the test dataset\n",
    "len(test_dataset)"
   ]
  },
  {
   "cell_type": "code",
   "execution_count": 38,
   "id": "d689dd9d",
   "metadata": {},
   "outputs": [
    {
     "data": {
      "text/plain": [
       "True"
      ]
     },
     "execution_count": 38,
     "metadata": {},
     "output_type": "execute_result"
    }
   ],
   "source": [
    "# Double check the you split the data correctly\n",
    "len(train_dataset) + len(test_dataset) == len(dataset)"
   ]
  },
  {
   "cell_type": "code",
   "execution_count": 39,
   "id": "b68720ff",
   "metadata": {},
   "outputs": [
    {
     "name": "stdout",
     "output_type": "stream",
     "text": [
      "Full: (392, 10), train: (314, 10), test: (78, 10)\n"
     ]
    }
   ],
   "source": [
    "print(f\"Full: {dataset.shape}, train: {train_dataset.shape}, test: {test_dataset.shape}\")"
   ]
  },
  {
   "cell_type": "code",
   "execution_count": 40,
   "id": "59774f64",
   "metadata": {},
   "outputs": [
    {
     "data": {
      "text/html": [
       "<div>\n",
       "<style scoped>\n",
       "    .dataframe tbody tr th:only-of-type {\n",
       "        vertical-align: middle;\n",
       "    }\n",
       "\n",
       "    .dataframe tbody tr th {\n",
       "        vertical-align: top;\n",
       "    }\n",
       "\n",
       "    .dataframe thead th {\n",
       "        text-align: right;\n",
       "    }\n",
       "</style>\n",
       "<table border=\"1\" class=\"dataframe\">\n",
       "  <thead>\n",
       "    <tr style=\"text-align: right;\">\n",
       "      <th></th>\n",
       "      <th>count</th>\n",
       "      <th>mean</th>\n",
       "      <th>std</th>\n",
       "      <th>min</th>\n",
       "      <th>25%</th>\n",
       "      <th>50%</th>\n",
       "      <th>75%</th>\n",
       "      <th>max</th>\n",
       "    </tr>\n",
       "  </thead>\n",
       "  <tbody>\n",
       "    <tr>\n",
       "      <th>MPG</th>\n",
       "      <td>314.0</td>\n",
       "      <td>23.310510</td>\n",
       "      <td>7.728652</td>\n",
       "      <td>10.0</td>\n",
       "      <td>17.00</td>\n",
       "      <td>22.0</td>\n",
       "      <td>28.95</td>\n",
       "      <td>46.6</td>\n",
       "    </tr>\n",
       "    <tr>\n",
       "      <th>Cylinders</th>\n",
       "      <td>314.0</td>\n",
       "      <td>5.477707</td>\n",
       "      <td>1.699788</td>\n",
       "      <td>3.0</td>\n",
       "      <td>4.00</td>\n",
       "      <td>4.0</td>\n",
       "      <td>8.00</td>\n",
       "      <td>8.0</td>\n",
       "    </tr>\n",
       "    <tr>\n",
       "      <th>Displacement</th>\n",
       "      <td>314.0</td>\n",
       "      <td>195.318471</td>\n",
       "      <td>104.331589</td>\n",
       "      <td>68.0</td>\n",
       "      <td>105.50</td>\n",
       "      <td>151.0</td>\n",
       "      <td>265.75</td>\n",
       "      <td>455.0</td>\n",
       "    </tr>\n",
       "    <tr>\n",
       "      <th>Horsepower</th>\n",
       "      <td>314.0</td>\n",
       "      <td>104.869427</td>\n",
       "      <td>38.096214</td>\n",
       "      <td>46.0</td>\n",
       "      <td>76.25</td>\n",
       "      <td>94.5</td>\n",
       "      <td>128.00</td>\n",
       "      <td>225.0</td>\n",
       "    </tr>\n",
       "    <tr>\n",
       "      <th>Weight</th>\n",
       "      <td>314.0</td>\n",
       "      <td>2990.251592</td>\n",
       "      <td>843.898596</td>\n",
       "      <td>1649.0</td>\n",
       "      <td>2256.50</td>\n",
       "      <td>2822.5</td>\n",
       "      <td>3608.00</td>\n",
       "      <td>5140.0</td>\n",
       "    </tr>\n",
       "    <tr>\n",
       "      <th>Acceleration</th>\n",
       "      <td>314.0</td>\n",
       "      <td>15.559236</td>\n",
       "      <td>2.789230</td>\n",
       "      <td>8.0</td>\n",
       "      <td>13.80</td>\n",
       "      <td>15.5</td>\n",
       "      <td>17.20</td>\n",
       "      <td>24.8</td>\n",
       "    </tr>\n",
       "    <tr>\n",
       "      <th>Model Year</th>\n",
       "      <td>314.0</td>\n",
       "      <td>75.898089</td>\n",
       "      <td>3.675642</td>\n",
       "      <td>70.0</td>\n",
       "      <td>73.00</td>\n",
       "      <td>76.0</td>\n",
       "      <td>79.00</td>\n",
       "      <td>82.0</td>\n",
       "    </tr>\n",
       "    <tr>\n",
       "      <th>USA</th>\n",
       "      <td>314.0</td>\n",
       "      <td>0.624204</td>\n",
       "      <td>0.485101</td>\n",
       "      <td>0.0</td>\n",
       "      <td>0.00</td>\n",
       "      <td>1.0</td>\n",
       "      <td>1.00</td>\n",
       "      <td>1.0</td>\n",
       "    </tr>\n",
       "    <tr>\n",
       "      <th>Europe</th>\n",
       "      <td>314.0</td>\n",
       "      <td>0.178344</td>\n",
       "      <td>0.383413</td>\n",
       "      <td>0.0</td>\n",
       "      <td>0.00</td>\n",
       "      <td>0.0</td>\n",
       "      <td>0.00</td>\n",
       "      <td>1.0</td>\n",
       "    </tr>\n",
       "    <tr>\n",
       "      <th>Japan</th>\n",
       "      <td>314.0</td>\n",
       "      <td>0.197452</td>\n",
       "      <td>0.398712</td>\n",
       "      <td>0.0</td>\n",
       "      <td>0.00</td>\n",
       "      <td>0.0</td>\n",
       "      <td>0.00</td>\n",
       "      <td>1.0</td>\n",
       "    </tr>\n",
       "  </tbody>\n",
       "</table>\n",
       "</div>"
      ],
      "text/plain": [
       "              count         mean         std     min      25%     50%  \\\n",
       "MPG           314.0    23.310510    7.728652    10.0    17.00    22.0   \n",
       "Cylinders     314.0     5.477707    1.699788     3.0     4.00     4.0   \n",
       "Displacement  314.0   195.318471  104.331589    68.0   105.50   151.0   \n",
       "Horsepower    314.0   104.869427   38.096214    46.0    76.25    94.5   \n",
       "Weight        314.0  2990.251592  843.898596  1649.0  2256.50  2822.5   \n",
       "Acceleration  314.0    15.559236    2.789230     8.0    13.80    15.5   \n",
       "Model Year    314.0    75.898089    3.675642    70.0    73.00    76.0   \n",
       "USA           314.0     0.624204    0.485101     0.0     0.00     1.0   \n",
       "Europe        314.0     0.178344    0.383413     0.0     0.00     0.0   \n",
       "Japan         314.0     0.197452    0.398712     0.0     0.00     0.0   \n",
       "\n",
       "                  75%     max  \n",
       "MPG             28.95    46.6  \n",
       "Cylinders        8.00     8.0  \n",
       "Displacement   265.75   455.0  \n",
       "Horsepower     128.00   225.0  \n",
       "Weight        3608.00  5140.0  \n",
       "Acceleration    17.20    24.8  \n",
       "Model Year      79.00    82.0  \n",
       "USA              1.00     1.0  \n",
       "Europe           0.00     1.0  \n",
       "Japan            0.00     1.0  "
      ]
     },
     "execution_count": 40,
     "metadata": {},
     "output_type": "execute_result"
    }
   ],
   "source": [
    "train_dataset.describe().transpose()"
   ]
  },
  {
   "cell_type": "code",
   "execution_count": 41,
   "id": "7c326d86",
   "metadata": {},
   "outputs": [],
   "source": [
    "# Split features from labels \n",
    "\n",
    "train_features = train_dataset.copy() # Make a copy of this object's indices and data.\n",
    "test_features  = test_dataset.copy()"
   ]
  },
  {
   "cell_type": "code",
   "execution_count": 42,
   "id": "3c58175f",
   "metadata": {},
   "outputs": [],
   "source": [
    "# So, MPG will be the variable to predict\n",
    "\n",
    "train_labels = train_features.pop('MPG')\n",
    "test_labels  = test_features.pop('MPG') "
   ]
  },
  {
   "cell_type": "code",
   "execution_count": 43,
   "id": "2ce5e759",
   "metadata": {},
   "outputs": [],
   "source": [
    "# Help function  to plot the feature with MPG\n",
    "\n",
    "def plot_feature(feature, x=None, y = None):\n",
    "    plt.figure(figsize=(10,10))\n",
    "    plt.scatter(train_features[feature], train_labels, label ='Data')\n",
    "    \n",
    "    if x is not None and y is not None:\n",
    "        plt.plot(x,y, color ='k', label= 'Predictions')\n",
    "    \n",
    "    plt.xlabel(feature)\n",
    "    plt.ylabel('MPG')\n",
    "    plt.legend()"
   ]
  },
  {
   "cell_type": "code",
   "execution_count": 44,
   "id": "70c4ebab",
   "metadata": {},
   "outputs": [
    {
     "data": {
      "image/png": "[encoded data removed]",
      "text/plain": [
       "<Figure size 720x720 with 1 Axes>"
      ]
     },
     "metadata": {
      "needs_background": "light"
     },
     "output_type": "display_data"
    }
   ],
   "source": [
    "plot_feature('Horsepower')"
   ]
  },
  {
   "cell_type": "code",
   "execution_count": 45,
   "id": "7a702c7b",
   "metadata": {},
   "outputs": [
    {
     "data": {
      "image/png": "[encoded data removed]",
      "text/plain": [
       "<Figure size 720x720 with 1 Axes>"
      ]
     },
     "metadata": {
      "needs_background": "light"
     },
     "output_type": "display_data"
    }
   ],
   "source": [
    "plot_feature('Weight')"
   ]
  },
  {
   "cell_type": "code",
   "execution_count": 46,
   "id": "2fd5df50",
   "metadata": {},
   "outputs": [
    {
     "name": "stdout",
     "output_type": "stream",
     "text": [
      "                     mean         std\n",
      "MPG             23.310510    7.728652\n",
      "Cylinders        5.477707    1.699788\n",
      "Displacement   195.318471  104.331589\n",
      "Horsepower     104.869427   38.096214\n",
      "Weight        2990.251592  843.898596\n",
      "Acceleration    15.559236    2.789230\n",
      "Model Year      75.898089    3.675642\n",
      "USA              0.624204    0.485101\n",
      "Europe           0.178344    0.383413\n",
      "Japan            0.197452    0.398712\n"
     ]
    }
   ],
   "source": [
    "# Check the mean and std of the data\n",
    "print(train_dataset.describe().transpose()[['mean', 'std']])"
   ]
  },
  {
   "cell_type": "code",
   "execution_count": 47,
   "id": "4f67ec8b",
   "metadata": {},
   "outputs": [],
   "source": [
    "# Normlization\n",
    "# A preprocessing layer which normalizes continuous features.\n",
    "\n",
    "normalizer = preprocessing.Normalization()"
   ]
  },
  {
   "cell_type": "code",
   "execution_count": 48,
   "id": "af4b56e2",
   "metadata": {},
   "outputs": [],
   "source": [
    "# adapt to the data\n",
    "# Fits the state of the preprocessing layer to the data being passed.\n",
    "# print(type(train_features))\n",
    "\n",
    "normalizer.adapt(np.array(train_features))"
   ]
  },
  {
   "cell_type": "code",
   "execution_count": 49,
   "id": "be17a513",
   "metadata": {},
   "outputs": [
    {
     "data": {
      "text/html": [
       "<div>\n",
       "<style scoped>\n",
       "    .dataframe tbody tr th:only-of-type {\n",
       "        vertical-align: middle;\n",
       "    }\n",
       "\n",
       "    .dataframe tbody tr th {\n",
       "        vertical-align: top;\n",
       "    }\n",
       "\n",
       "    .dataframe thead th {\n",
       "        text-align: right;\n",
       "    }\n",
       "</style>\n",
       "<table border=\"1\" class=\"dataframe\">\n",
       "  <thead>\n",
       "    <tr style=\"text-align: right;\">\n",
       "      <th></th>\n",
       "      <th>count</th>\n",
       "      <th>mean</th>\n",
       "      <th>std</th>\n",
       "      <th>min</th>\n",
       "      <th>25%</th>\n",
       "      <th>50%</th>\n",
       "      <th>75%</th>\n",
       "      <th>max</th>\n",
       "    </tr>\n",
       "  </thead>\n",
       "  <tbody>\n",
       "    <tr>\n",
       "      <th>Cylinders</th>\n",
       "      <td>314.0</td>\n",
       "      <td>5.477707</td>\n",
       "      <td>1.699788</td>\n",
       "      <td>3.0</td>\n",
       "      <td>4.00</td>\n",
       "      <td>4.0</td>\n",
       "      <td>8.00</td>\n",
       "      <td>8.0</td>\n",
       "    </tr>\n",
       "    <tr>\n",
       "      <th>Displacement</th>\n",
       "      <td>314.0</td>\n",
       "      <td>195.318471</td>\n",
       "      <td>104.331589</td>\n",
       "      <td>68.0</td>\n",
       "      <td>105.50</td>\n",
       "      <td>151.0</td>\n",
       "      <td>265.75</td>\n",
       "      <td>455.0</td>\n",
       "    </tr>\n",
       "    <tr>\n",
       "      <th>Horsepower</th>\n",
       "      <td>314.0</td>\n",
       "      <td>104.869427</td>\n",
       "      <td>38.096214</td>\n",
       "      <td>46.0</td>\n",
       "      <td>76.25</td>\n",
       "      <td>94.5</td>\n",
       "      <td>128.00</td>\n",
       "      <td>225.0</td>\n",
       "    </tr>\n",
       "    <tr>\n",
       "      <th>Weight</th>\n",
       "      <td>314.0</td>\n",
       "      <td>2990.251592</td>\n",
       "      <td>843.898596</td>\n",
       "      <td>1649.0</td>\n",
       "      <td>2256.50</td>\n",
       "      <td>2822.5</td>\n",
       "      <td>3608.00</td>\n",
       "      <td>5140.0</td>\n",
       "    </tr>\n",
       "    <tr>\n",
       "      <th>Acceleration</th>\n",
       "      <td>314.0</td>\n",
       "      <td>15.559236</td>\n",
       "      <td>2.789230</td>\n",
       "      <td>8.0</td>\n",
       "      <td>13.80</td>\n",
       "      <td>15.5</td>\n",
       "      <td>17.20</td>\n",
       "      <td>24.8</td>\n",
       "    </tr>\n",
       "    <tr>\n",
       "      <th>Model Year</th>\n",
       "      <td>314.0</td>\n",
       "      <td>75.898089</td>\n",
       "      <td>3.675642</td>\n",
       "      <td>70.0</td>\n",
       "      <td>73.00</td>\n",
       "      <td>76.0</td>\n",
       "      <td>79.00</td>\n",
       "      <td>82.0</td>\n",
       "    </tr>\n",
       "    <tr>\n",
       "      <th>USA</th>\n",
       "      <td>314.0</td>\n",
       "      <td>0.624204</td>\n",
       "      <td>0.485101</td>\n",
       "      <td>0.0</td>\n",
       "      <td>0.00</td>\n",
       "      <td>1.0</td>\n",
       "      <td>1.00</td>\n",
       "      <td>1.0</td>\n",
       "    </tr>\n",
       "    <tr>\n",
       "      <th>Europe</th>\n",
       "      <td>314.0</td>\n",
       "      <td>0.178344</td>\n",
       "      <td>0.383413</td>\n",
       "      <td>0.0</td>\n",
       "      <td>0.00</td>\n",
       "      <td>0.0</td>\n",
       "      <td>0.00</td>\n",
       "      <td>1.0</td>\n",
       "    </tr>\n",
       "    <tr>\n",
       "      <th>Japan</th>\n",
       "      <td>314.0</td>\n",
       "      <td>0.197452</td>\n",
       "      <td>0.398712</td>\n",
       "      <td>0.0</td>\n",
       "      <td>0.00</td>\n",
       "      <td>0.0</td>\n",
       "      <td>0.00</td>\n",
       "      <td>1.0</td>\n",
       "    </tr>\n",
       "  </tbody>\n",
       "</table>\n",
       "</div>"
      ],
      "text/plain": [
       "              count         mean         std     min      25%     50%  \\\n",
       "Cylinders     314.0     5.477707    1.699788     3.0     4.00     4.0   \n",
       "Displacement  314.0   195.318471  104.331589    68.0   105.50   151.0   \n",
       "Horsepower    314.0   104.869427   38.096214    46.0    76.25    94.5   \n",
       "Weight        314.0  2990.251592  843.898596  1649.0  2256.50  2822.5   \n",
       "Acceleration  314.0    15.559236    2.789230     8.0    13.80    15.5   \n",
       "Model Year    314.0    75.898089    3.675642    70.0    73.00    76.0   \n",
       "USA           314.0     0.624204    0.485101     0.0     0.00     1.0   \n",
       "Europe        314.0     0.178344    0.383413     0.0     0.00     0.0   \n",
       "Japan         314.0     0.197452    0.398712     0.0     0.00     0.0   \n",
       "\n",
       "                  75%     max  \n",
       "Cylinders        8.00     8.0  \n",
       "Displacement   265.75   455.0  \n",
       "Horsepower     128.00   225.0  \n",
       "Weight        3608.00  5140.0  \n",
       "Acceleration    17.20    24.8  \n",
       "Model Year      79.00    82.0  \n",
       "USA              1.00     1.0  \n",
       "Europe           0.00     1.0  \n",
       "Japan            0.00     1.0  "
      ]
     },
     "execution_count": 49,
     "metadata": {},
     "output_type": "execute_result"
    }
   ],
   "source": [
    "train_features.describe().transpose()"
   ]
  },
  {
   "cell_type": "code",
   "execution_count": 50,
   "id": "35b65b98",
   "metadata": {},
   "outputs": [
    {
     "data": {
      "text/plain": [
       "array([[   5.478,  195.318,  104.869, 2990.252,   15.559,   75.898,\n",
       "           0.624,    0.178,    0.197]], dtype=float32)"
      ]
     },
     "execution_count": 50,
     "metadata": {},
     "output_type": "execute_result"
    }
   ],
   "source": [
    "normalizer.mean.numpy()"
   ]
  },
  {
   "cell_type": "code",
   "execution_count": 51,
   "id": "33643caa",
   "metadata": {},
   "outputs": [
    {
     "data": {
      "text/html": [
       "<div>\n",
       "<style scoped>\n",
       "    .dataframe tbody tr th:only-of-type {\n",
       "        vertical-align: middle;\n",
       "    }\n",
       "\n",
       "    .dataframe tbody tr th {\n",
       "        vertical-align: top;\n",
       "    }\n",
       "\n",
       "    .dataframe thead th {\n",
       "        text-align: right;\n",
       "    }\n",
       "</style>\n",
       "<table border=\"1\" class=\"dataframe\">\n",
       "  <thead>\n",
       "    <tr style=\"text-align: right;\">\n",
       "      <th></th>\n",
       "      <th>Cylinders</th>\n",
       "      <th>Displacement</th>\n",
       "      <th>Horsepower</th>\n",
       "      <th>Weight</th>\n",
       "      <th>Acceleration</th>\n",
       "      <th>Model Year</th>\n",
       "      <th>USA</th>\n",
       "      <th>Europe</th>\n",
       "      <th>Japan</th>\n",
       "    </tr>\n",
       "  </thead>\n",
       "  <tbody>\n",
       "    <tr>\n",
       "      <th>146</th>\n",
       "      <td>4</td>\n",
       "      <td>90.0</td>\n",
       "      <td>75.0</td>\n",
       "      <td>2125.0</td>\n",
       "      <td>14.5</td>\n",
       "      <td>74</td>\n",
       "      <td>1</td>\n",
       "      <td>0</td>\n",
       "      <td>0</td>\n",
       "    </tr>\n",
       "    <tr>\n",
       "      <th>282</th>\n",
       "      <td>4</td>\n",
       "      <td>140.0</td>\n",
       "      <td>88.0</td>\n",
       "      <td>2890.0</td>\n",
       "      <td>17.3</td>\n",
       "      <td>79</td>\n",
       "      <td>1</td>\n",
       "      <td>0</td>\n",
       "      <td>0</td>\n",
       "    </tr>\n",
       "    <tr>\n",
       "      <th>69</th>\n",
       "      <td>8</td>\n",
       "      <td>350.0</td>\n",
       "      <td>160.0</td>\n",
       "      <td>4456.0</td>\n",
       "      <td>13.5</td>\n",
       "      <td>72</td>\n",
       "      <td>1</td>\n",
       "      <td>0</td>\n",
       "      <td>0</td>\n",
       "    </tr>\n",
       "    <tr>\n",
       "      <th>378</th>\n",
       "      <td>4</td>\n",
       "      <td>105.0</td>\n",
       "      <td>63.0</td>\n",
       "      <td>2125.0</td>\n",
       "      <td>14.7</td>\n",
       "      <td>82</td>\n",
       "      <td>1</td>\n",
       "      <td>0</td>\n",
       "      <td>0</td>\n",
       "    </tr>\n",
       "    <tr>\n",
       "      <th>331</th>\n",
       "      <td>4</td>\n",
       "      <td>97.0</td>\n",
       "      <td>67.0</td>\n",
       "      <td>2145.0</td>\n",
       "      <td>18.0</td>\n",
       "      <td>80</td>\n",
       "      <td>0</td>\n",
       "      <td>0</td>\n",
       "      <td>1</td>\n",
       "    </tr>\n",
       "  </tbody>\n",
       "</table>\n",
       "</div>"
      ],
      "text/plain": [
       "     Cylinders  Displacement  Horsepower  Weight  Acceleration  Model Year  \\\n",
       "146          4          90.0        75.0  2125.0          14.5          74   \n",
       "282          4         140.0        88.0  2890.0          17.3          79   \n",
       "69           8         350.0       160.0  4456.0          13.5          72   \n",
       "378          4         105.0        63.0  2125.0          14.7          82   \n",
       "331          4          97.0        67.0  2145.0          18.0          80   \n",
       "\n",
       "     USA  Europe  Japan  \n",
       "146    1       0      0  \n",
       "282    1       0      0  \n",
       "69     1       0      0  \n",
       "378    1       0      0  \n",
       "331    0       0      1  "
      ]
     },
     "execution_count": 51,
     "metadata": {},
     "output_type": "execute_result"
    }
   ],
   "source": [
    "train_features.head()"
   ]
  },
  {
   "cell_type": "code",
   "execution_count": 52,
   "id": "3a8e41d2",
   "metadata": {},
   "outputs": [
    {
     "name": "stdout",
     "output_type": "stream",
     "text": [
      "First example: [[   4.    90.    75.  2125.    14.5   74.     1.     0.     0. ]]\n",
      "Normalized: [[-0.871 -1.011 -0.785 -1.027 -0.38  -0.517  0.776 -0.466 -0.496]]\n"
     ]
    }
   ],
   "source": [
    "# When the layer is called it returns the input data, with each feature independently normalized:\n",
    "# (input-mean)/stddev\n",
    "\n",
    "first = np.array(train_features[:1])\n",
    "print('First example:', first)\n",
    "print('Normalized:', normalizer(first).numpy())"
   ]
  },
  {
   "cell_type": "markdown",
   "id": "c266805c",
   "metadata": {},
   "source": [
    "# Models"
   ]
  },
  {
   "cell_type": "markdown",
   "id": "516d7723",
   "metadata": {},
   "source": [
    "## Linear regression with one variable"
   ]
  },
  {
   "cell_type": "code",
   "execution_count": 53,
   "id": "edb5560c",
   "metadata": {},
   "outputs": [
    {
     "name": "stdout",
     "output_type": "stream",
     "text": [
      "(314,) (314, 9)\n"
     ]
    }
   ],
   "source": [
    "# Regression\n",
    " # 1. Normalize the input horsepower\n",
    " # 2. Apply a linear transformation (y = m*x+b) to produce 1 output using layers.Dense\n",
    "\n",
    "feature = 'Horsepower'\n",
    "single_feature = np.array(train_features[feature])\n",
    "print(single_feature.shape, train_features.shape)\n",
    "\n",
    "# Normalization\n",
    "# If `axis` is set to `None`, the layer will normalize all elements in the input by a scalar mean and variance.\n",
    "\n",
    "horsepower_normalizer = layers.Normalization(input_shape=[1,], axis=None)\n",
    "# adapt to the data\n",
    "horsepower_normalizer.adapt(single_feature)"
   ]
  },
  {
   "cell_type": "code",
   "execution_count": 54,
   "id": "6712e2a0",
   "metadata": {},
   "outputs": [],
   "source": [
    "# Sequential model\n",
    "single_feature_model = tf.keras.Sequential([\n",
    "    horsepower_normalizer,\n",
    "    layers.Dense(units=1)\n",
    "])"
   ]
  },
  {
   "cell_type": "code",
   "execution_count": 55,
   "id": "0fd528ad",
   "metadata": {},
   "outputs": [
    {
     "name": "stdout",
     "output_type": "stream",
     "text": [
      "Model: \"sequential\"\n",
      "_________________________________________________________________\n",
      " Layer (type)                Output Shape              Param #   \n",
      "=================================================================\n",
      " normalization_1 (Normalizat  (None, 1)                3         \n",
      " ion)                                                            \n",
      "                                                                 \n",
      " dense (Dense)               (None, 1)                 2         \n",
      "                                                                 \n",
      "=================================================================\n",
      "Total params: 5\n",
      "Trainable params: 2\n",
      "Non-trainable params: 3\n",
      "_________________________________________________________________\n"
     ]
    }
   ],
   "source": [
    "single_feature_model.summary()"
   ]
  },
  {
   "cell_type": "code",
   "execution_count": 56,
   "id": "19f5aa86",
   "metadata": {},
   "outputs": [
    {
     "data": {
      "text/plain": [
       "array([[ 0.075],\n",
       "       [ 0.043],\n",
       "       [-0.139],\n",
       "       [ 0.106],\n",
       "       [ 0.095],\n",
       "       [ 0.037],\n",
       "       [ 0.113],\n",
       "       [ 0.095],\n",
       "       [ 0.025],\n",
       "       [ 0.043]], dtype=float32)"
      ]
     },
     "execution_count": 56,
     "metadata": {},
     "output_type": "execute_result"
    }
   ],
   "source": [
    "#This model will predict 'MPG' from 'Horsepower'.\n",
    "#Run the untrained model on the first 10 'Horsepower' values. The output won't be good, but notice that it has the expected shape of (10, 1):\n",
    "single_feature_model.predict(single_feature[:10])"
   ]
  },
  {
   "cell_type": "code",
   "execution_count": 57,
   "id": "c6b3e66f",
   "metadata": {},
   "outputs": [
    {
     "name": "stdout",
     "output_type": "stream",
     "text": [
      "(10, 1)\n"
     ]
    }
   ],
   "source": [
    "print(single_feature_model.predict(single_feature[:10]).shape)"
   ]
  },
  {
   "cell_type": "code",
   "execution_count": 58,
   "id": "2cbe399d",
   "metadata": {},
   "outputs": [],
   "source": [
    "# loss and optimizer\n",
    "\n",
    "single_feature_model.compile(optimizer =tf.optimizers.Adam(learning_rate=0.1), loss= 'mean_absolute_error')"
   ]
  },
  {
   "cell_type": "code",
   "execution_count": 59,
   "id": "54bbaa99",
   "metadata": {
    "scrolled": true
   },
   "outputs": [
    {
     "name": "stdout",
     "output_type": "stream",
     "text": [
      "Epoch 1/100\n",
      "8/8 [==============================] - 0s 23ms/step - loss: 22.8860 - val_loss: 22.9356\n",
      "Epoch 2/100\n",
      "8/8 [==============================] - 0s 7ms/step - loss: 22.0627 - val_loss: 22.1353\n",
      "Epoch 3/100\n",
      "8/8 [==============================] - 0s 7ms/step - loss: 21.2620 - val_loss: 21.3354\n",
      "Epoch 4/100\n",
      "8/8 [==============================] - 0s 7ms/step - loss: 20.4643 - val_loss: 20.5351\n",
      "Epoch 5/100\n",
      "8/8 [==============================] - 0s 9ms/step - loss: 19.6614 - val_loss: 19.7352\n",
      "Epoch 6/100\n",
      "8/8 [==============================] - 0s 7ms/step - loss: 18.8621 - val_loss: 18.9353\n",
      "Epoch 7/100\n",
      "8/8 [==============================] - 0s 9ms/step - loss: 18.0615 - val_loss: 18.1353\n",
      "Epoch 8/100\n",
      "8/8 [==============================] - 0s 8ms/step - loss: 17.2618 - val_loss: 17.3353\n",
      "Epoch 9/100\n",
      "8/8 [==============================] - 0s 10ms/step - loss: 16.4614 - val_loss: 16.5353\n",
      "Epoch 10/100\n",
      "8/8 [==============================] - 0s 10ms/step - loss: 15.6620 - val_loss: 15.7354\n",
      "Epoch 11/100\n",
      "8/8 [==============================] - 0s 8ms/step - loss: 14.8627 - val_loss: 14.9355\n",
      "Epoch 12/100\n",
      "8/8 [==============================] - 0s 7ms/step - loss: 14.0635 - val_loss: 14.1356\n",
      "Epoch 13/100\n",
      "8/8 [==============================] - 0s 7ms/step - loss: 13.2682 - val_loss: 13.3365\n",
      "Epoch 14/100\n",
      "8/8 [==============================] - 0s 7ms/step - loss: 12.4802 - val_loss: 12.5555\n",
      "Epoch 15/100\n",
      "8/8 [==============================] - 0s 7ms/step - loss: 11.6972 - val_loss: 11.7805\n",
      "Epoch 16/100\n",
      "8/8 [==============================] - 0s 6ms/step - loss: 10.9207 - val_loss: 11.0021\n",
      "Epoch 17/100\n",
      "8/8 [==============================] - 0s 6ms/step - loss: 10.1377 - val_loss: 10.2254\n",
      "Epoch 18/100\n",
      "8/8 [==============================] - 0s 7ms/step - loss: 9.3712 - val_loss: 9.4484\n",
      "Epoch 19/100\n",
      "8/8 [==============================] - 0s 6ms/step - loss: 8.6314 - val_loss: 8.6951\n",
      "Epoch 20/100\n",
      "8/8 [==============================] - 0s 6ms/step - loss: 7.9318 - val_loss: 7.9547\n",
      "Epoch 21/100\n",
      "8/8 [==============================] - 0s 7ms/step - loss: 7.2372 - val_loss: 7.2525\n",
      "Epoch 22/100\n",
      "8/8 [==============================] - 0s 7ms/step - loss: 6.6097 - val_loss: 6.6091\n",
      "Epoch 23/100\n",
      "8/8 [==============================] - 0s 8ms/step - loss: 6.0167 - val_loss: 6.0293\n",
      "Epoch 24/100\n",
      "8/8 [==============================] - 0s 7ms/step - loss: 5.5105 - val_loss: 5.5938\n",
      "Epoch 25/100\n",
      "8/8 [==============================] - 0s 7ms/step - loss: 5.0771 - val_loss: 5.2511\n",
      "Epoch 26/100\n",
      "8/8 [==============================] - 0s 8ms/step - loss: 4.7543 - val_loss: 5.0160\n",
      "Epoch 27/100\n",
      "8/8 [==============================] - 0s 7ms/step - loss: 4.5200 - val_loss: 4.8402\n",
      "Epoch 28/100\n",
      "8/8 [==============================] - 0s 8ms/step - loss: 4.2995 - val_loss: 4.6857\n",
      "Epoch 29/100\n",
      "8/8 [==============================] - 0s 8ms/step - loss: 4.1479 - val_loss: 4.5607\n",
      "Epoch 30/100\n",
      "8/8 [==============================] - 0s 8ms/step - loss: 4.0418 - val_loss: 4.4644\n",
      "Epoch 31/100\n",
      "8/8 [==============================] - 0s 7ms/step - loss: 3.9628 - val_loss: 4.4087\n",
      "Epoch 32/100\n",
      "8/8 [==============================] - 0s 8ms/step - loss: 3.9023 - val_loss: 4.3427\n",
      "Epoch 33/100\n",
      "8/8 [==============================] - 0s 7ms/step - loss: 3.8669 - val_loss: 4.2961\n",
      "Epoch 34/100\n",
      "8/8 [==============================] - 0s 6ms/step - loss: 3.8472 - val_loss: 4.2576\n",
      "Epoch 35/100\n",
      "8/8 [==============================] - 0s 7ms/step - loss: 3.8283 - val_loss: 4.2311\n",
      "Epoch 36/100\n",
      "8/8 [==============================] - 0s 8ms/step - loss: 3.8245 - val_loss: 4.1985\n",
      "Epoch 37/100\n",
      "8/8 [==============================] - 0s 7ms/step - loss: 3.8159 - val_loss: 4.2085\n",
      "Epoch 38/100\n",
      "8/8 [==============================] - 0s 6ms/step - loss: 3.8099 - val_loss: 4.2178\n",
      "Epoch 39/100\n",
      "8/8 [==============================] - 0s 6ms/step - loss: 3.8093 - val_loss: 4.2144\n",
      "Epoch 40/100\n",
      "8/8 [==============================] - 0s 7ms/step - loss: 3.8039 - val_loss: 4.2051\n",
      "Epoch 41/100\n",
      "8/8 [==============================] - 0s 6ms/step - loss: 3.8055 - val_loss: 4.1850\n",
      "Epoch 42/100\n",
      "8/8 [==============================] - 0s 6ms/step - loss: 3.8057 - val_loss: 4.1815\n",
      "Epoch 43/100\n",
      "8/8 [==============================] - 0s 6ms/step - loss: 3.8055 - val_loss: 4.1964\n",
      "Epoch 44/100\n",
      "8/8 [==============================] - 0s 6ms/step - loss: 3.8035 - val_loss: 4.2051\n",
      "Epoch 45/100\n",
      "8/8 [==============================] - 0s 6ms/step - loss: 3.8072 - val_loss: 4.2201\n",
      "Epoch 46/100\n",
      "8/8 [==============================] - 0s 6ms/step - loss: 3.8065 - val_loss: 4.1863\n",
      "Epoch 47/100\n",
      "8/8 [==============================] - 0s 7ms/step - loss: 3.8062 - val_loss: 4.1974\n",
      "Epoch 48/100\n",
      "8/8 [==============================] - 0s 8ms/step - loss: 3.8040 - val_loss: 4.1922\n",
      "Epoch 49/100\n",
      "8/8 [==============================] - 0s 6ms/step - loss: 3.8030 - val_loss: 4.1969\n",
      "Epoch 50/100\n",
      "8/8 [==============================] - 0s 6ms/step - loss: 3.8021 - val_loss: 4.1964\n",
      "Epoch 51/100\n",
      "8/8 [==============================] - 0s 6ms/step - loss: 3.8038 - val_loss: 4.2049\n",
      "Epoch 52/100\n",
      "8/8 [==============================] - 0s 7ms/step - loss: 3.8024 - val_loss: 4.1868\n",
      "Epoch 53/100\n",
      "8/8 [==============================] - 0s 8ms/step - loss: 3.8026 - val_loss: 4.1848\n",
      "Epoch 54/100\n",
      "8/8 [==============================] - 0s 7ms/step - loss: 3.8041 - val_loss: 4.1880\n",
      "Epoch 55/100\n",
      "8/8 [==============================] - 0s 7ms/step - loss: 3.8044 - val_loss: 4.1942\n",
      "Epoch 56/100\n",
      "8/8 [==============================] - 0s 7ms/step - loss: 3.8023 - val_loss: 4.1907\n",
      "Epoch 57/100\n",
      "8/8 [==============================] - 0s 7ms/step - loss: 3.8021 - val_loss: 4.1868\n",
      "Epoch 58/100\n",
      "8/8 [==============================] - 0s 7ms/step - loss: 3.8082 - val_loss: 4.2086\n",
      "Epoch 59/100\n",
      "8/8 [==============================] - 0s 8ms/step - loss: 3.8053 - val_loss: 4.1746\n",
      "Epoch 60/100\n",
      "8/8 [==============================] - 0s 6ms/step - loss: 3.8089 - val_loss: 4.1556\n",
      "Epoch 61/100\n",
      "8/8 [==============================] - 0s 6ms/step - loss: 3.8053 - val_loss: 4.1746\n",
      "Epoch 62/100\n",
      "8/8 [==============================] - 0s 6ms/step - loss: 3.8023 - val_loss: 4.1879\n",
      "Epoch 63/100\n",
      "8/8 [==============================] - 0s 10ms/step - loss: 3.8052 - val_loss: 4.1976\n",
      "Epoch 64/100\n",
      "8/8 [==============================] - 0s 16ms/step - loss: 3.8045 - val_loss: 4.1815\n",
      "Epoch 65/100\n",
      "8/8 [==============================] - 0s 9ms/step - loss: 3.8056 - val_loss: 4.1914\n",
      "Epoch 66/100\n",
      "8/8 [==============================] - 0s 8ms/step - loss: 3.8025 - val_loss: 4.1931\n",
      "Epoch 67/100\n",
      "8/8 [==============================] - 0s 10ms/step - loss: 3.8034 - val_loss: 4.1836\n",
      "Epoch 68/100\n",
      "8/8 [==============================] - 0s 9ms/step - loss: 3.8063 - val_loss: 4.1715\n",
      "Epoch 69/100\n",
      "8/8 [==============================] - 0s 12ms/step - loss: 3.8059 - val_loss: 4.1995\n",
      "Epoch 70/100\n",
      "8/8 [==============================] - 0s 11ms/step - loss: 3.8045 - val_loss: 4.1840\n",
      "Epoch 71/100\n",
      "8/8 [==============================] - 0s 10ms/step - loss: 3.8050 - val_loss: 4.1949\n",
      "Epoch 72/100\n",
      "8/8 [==============================] - 0s 13ms/step - loss: 3.8071 - val_loss: 4.2051\n",
      "Epoch 73/100\n",
      "8/8 [==============================] - 0s 8ms/step - loss: 3.8032 - val_loss: 4.1980\n",
      "Epoch 74/100\n",
      "8/8 [==============================] - 0s 6ms/step - loss: 3.8074 - val_loss: 4.1805\n",
      "Epoch 75/100\n",
      "8/8 [==============================] - 0s 8ms/step - loss: 3.8067 - val_loss: 4.1714\n",
      "Epoch 76/100\n",
      "8/8 [==============================] - 0s 9ms/step - loss: 3.8025 - val_loss: 4.1970\n",
      "Epoch 77/100\n",
      "8/8 [==============================] - 0s 9ms/step - loss: 3.8035 - val_loss: 4.1988\n",
      "Epoch 78/100\n",
      "8/8 [==============================] - 0s 10ms/step - loss: 3.8039 - val_loss: 4.1867\n",
      "Epoch 79/100\n",
      "8/8 [==============================] - 0s 9ms/step - loss: 3.8043 - val_loss: 4.1986\n",
      "Epoch 80/100\n",
      "8/8 [==============================] - 0s 8ms/step - loss: 3.8019 - val_loss: 4.1935\n",
      "Epoch 81/100\n",
      "8/8 [==============================] - 0s 9ms/step - loss: 3.8027 - val_loss: 4.1951\n",
      "Epoch 82/100\n",
      "8/8 [==============================] - 0s 9ms/step - loss: 3.8054 - val_loss: 4.2031\n",
      "Epoch 83/100\n",
      "8/8 [==============================] - 0s 10ms/step - loss: 3.8018 - val_loss: 4.1779\n",
      "Epoch 84/100\n"
     ]
    },
    {
     "name": "stdout",
     "output_type": "stream",
     "text": [
      "8/8 [==============================] - 0s 8ms/step - loss: 3.8028 - val_loss: 4.1737\n",
      "Epoch 85/100\n",
      "8/8 [==============================] - 0s 9ms/step - loss: 3.8041 - val_loss: 4.1709\n",
      "Epoch 86/100\n",
      "8/8 [==============================] - 0s 8ms/step - loss: 3.8033 - val_loss: 4.1893\n",
      "Epoch 87/100\n",
      "8/8 [==============================] - 0s 8ms/step - loss: 3.8030 - val_loss: 4.1954\n",
      "Epoch 88/100\n",
      "8/8 [==============================] - 0s 10ms/step - loss: 3.8032 - val_loss: 4.1959\n",
      "Epoch 89/100\n",
      "8/8 [==============================] - 0s 8ms/step - loss: 3.8032 - val_loss: 4.1940\n",
      "Epoch 90/100\n",
      "8/8 [==============================] - 0s 7ms/step - loss: 3.8044 - val_loss: 4.1764\n",
      "Epoch 91/100\n",
      "8/8 [==============================] - 0s 7ms/step - loss: 3.8054 - val_loss: 4.1982\n",
      "Epoch 92/100\n",
      "8/8 [==============================] - 0s 13ms/step - loss: 3.8049 - val_loss: 4.1820\n",
      "Epoch 93/100\n",
      "8/8 [==============================] - 0s 16ms/step - loss: 3.8024 - val_loss: 4.1917\n",
      "Epoch 94/100\n",
      "8/8 [==============================] - 0s 15ms/step - loss: 3.8032 - val_loss: 4.2028\n",
      "Epoch 95/100\n",
      "8/8 [==============================] - 0s 10ms/step - loss: 3.8026 - val_loss: 4.1829\n",
      "Epoch 96/100\n",
      "8/8 [==============================] - 0s 14ms/step - loss: 3.8033 - val_loss: 4.1842\n",
      "Epoch 97/100\n",
      "8/8 [==============================] - 0s 10ms/step - loss: 3.8032 - val_loss: 4.1949\n",
      "Epoch 98/100\n",
      "8/8 [==============================] - 0s 10ms/step - loss: 3.8042 - val_loss: 4.1961\n",
      "Epoch 99/100\n",
      "8/8 [==============================] - 0s 9ms/step - loss: 3.8046 - val_loss: 4.1926\n",
      "Epoch 100/100\n",
      "8/8 [==============================] - 0s 7ms/step - loss: 3.8035 - val_loss: 4.1764\n"
     ]
    }
   ],
   "source": [
    "history = single_feature_model.fit(\n",
    "    train_features[feature], \n",
    "    train_labels,\n",
    "    epochs=100,\n",
    "    # Suppress logging.\n",
    "    verbose=1,\n",
    "    # Calculate validation results on 20% of the training data\n",
    "    validation_split=0.2)"
   ]
  },
  {
   "cell_type": "code",
   "execution_count": 60,
   "id": "39dd4640",
   "metadata": {},
   "outputs": [
    {
     "data": {
      "text/plain": [
       "<keras.callbacks.History at 0x7f34945ea490>"
      ]
     },
     "execution_count": 60,
     "metadata": {},
     "output_type": "execute_result"
    }
   ],
   "source": [
    "history"
   ]
  },
  {
   "cell_type": "code",
   "execution_count": 61,
   "id": "a56a9718",
   "metadata": {},
   "outputs": [
    {
     "data": {
      "text/plain": [
       "100"
      ]
     },
     "execution_count": 61,
     "metadata": {},
     "output_type": "execute_result"
    }
   ],
   "source": [
    "# Smart\n",
    "# The loss is calculated at the end of epoch\n",
    "len(history.history['loss'])"
   ]
  },
  {
   "cell_type": "code",
   "execution_count": 62,
   "id": "00143e4f",
   "metadata": {},
   "outputs": [
    {
     "data": {
      "text/plain": [
       "{'loss': [22.88603401184082,\n",
       "  22.062719345092773,\n",
       "  21.261991500854492,\n",
       "  20.464309692382812,\n",
       "  19.661441802978516,\n",
       "  18.862138748168945,\n",
       "  18.061498641967773,\n",
       "  17.26178550720215,\n",
       "  16.461355209350586,\n",
       "  15.661982536315918,\n",
       "  14.862725257873535,\n",
       "  14.06348705291748,\n",
       "  13.26822566986084,\n",
       "  12.480182647705078,\n",
       "  11.697200775146484,\n",
       "  10.920740127563477,\n",
       "  10.13773250579834,\n",
       "  9.371216773986816,\n",
       "  8.631382942199707,\n",
       "  7.931751251220703,\n",
       "  7.237228870391846,\n",
       "  6.609683513641357,\n",
       "  6.016685962677002,\n",
       "  5.510482311248779,\n",
       "  5.077060699462891,\n",
       "  4.754333972930908,\n",
       "  4.519957065582275,\n",
       "  4.299534797668457,\n",
       "  4.1479291915893555,\n",
       "  4.041847229003906,\n",
       "  3.962779998779297,\n",
       "  3.9023327827453613,\n",
       "  3.86686110496521,\n",
       "  3.847177505493164,\n",
       "  3.8283443450927734,\n",
       "  3.824528455734253,\n",
       "  3.815854549407959,\n",
       "  3.8099043369293213,\n",
       "  3.8092763423919678,\n",
       "  3.8038651943206787,\n",
       "  3.8055484294891357,\n",
       "  3.8056507110595703,\n",
       "  3.805464744567871,\n",
       "  3.8035025596618652,\n",
       "  3.8072311878204346,\n",
       "  3.806509494781494,\n",
       "  3.8061795234680176,\n",
       "  3.8039844036102295,\n",
       "  3.8030238151550293,\n",
       "  3.802112340927124,\n",
       "  3.8038220405578613,\n",
       "  3.8023829460144043,\n",
       "  3.8026058673858643,\n",
       "  3.8041417598724365,\n",
       "  3.8044419288635254,\n",
       "  3.8022685050964355,\n",
       "  3.8020787239074707,\n",
       "  3.8082144260406494,\n",
       "  3.8052830696105957,\n",
       "  3.8089253902435303,\n",
       "  3.8052713871002197,\n",
       "  3.802342653274536,\n",
       "  3.805210828781128,\n",
       "  3.804466485977173,\n",
       "  3.8055737018585205,\n",
       "  3.802504539489746,\n",
       "  3.8033950328826904,\n",
       "  3.806305170059204,\n",
       "  3.8058624267578125,\n",
       "  3.804450035095215,\n",
       "  3.804981231689453,\n",
       "  3.807096004486084,\n",
       "  3.803162097930908,\n",
       "  3.807401657104492,\n",
       "  3.8067073822021484,\n",
       "  3.802492141723633,\n",
       "  3.803514003753662,\n",
       "  3.803877830505371,\n",
       "  3.804285764694214,\n",
       "  3.8018722534179688,\n",
       "  3.8026530742645264,\n",
       "  3.805426597595215,\n",
       "  3.8018410205841064,\n",
       "  3.80279278755188,\n",
       "  3.8040761947631836,\n",
       "  3.803347110748291,\n",
       "  3.8030004501342773,\n",
       "  3.803187131881714,\n",
       "  3.8031716346740723,\n",
       "  3.804388999938965,\n",
       "  3.8053765296936035,\n",
       "  3.804872751235962,\n",
       "  3.802441120147705,\n",
       "  3.803220748901367,\n",
       "  3.8026175498962402,\n",
       "  3.803313970565796,\n",
       "  3.8032283782958984,\n",
       "  3.8042333126068115,\n",
       "  3.8045601844787598,\n",
       "  3.803473949432373],\n",
       " 'val_loss': [22.935630798339844,\n",
       "  22.135324478149414,\n",
       "  21.33539390563965,\n",
       "  20.535140991210938,\n",
       "  19.73520278930664,\n",
       "  18.935312271118164,\n",
       "  18.135311126708984,\n",
       "  17.335275650024414,\n",
       "  16.53534698486328,\n",
       "  15.73540210723877,\n",
       "  14.935493469238281,\n",
       "  14.135597229003906,\n",
       "  13.336505889892578,\n",
       "  12.555526733398438,\n",
       "  11.780470848083496,\n",
       "  11.002079010009766,\n",
       "  10.225399017333984,\n",
       "  9.4484224319458,\n",
       "  8.695149421691895,\n",
       "  7.9547438621521,\n",
       "  7.252481460571289,\n",
       "  6.609099864959717,\n",
       "  6.029282569885254,\n",
       "  5.593786716461182,\n",
       "  5.25113582611084,\n",
       "  5.01603889465332,\n",
       "  4.840208053588867,\n",
       "  4.685733795166016,\n",
       "  4.560681343078613,\n",
       "  4.46444034576416,\n",
       "  4.408729553222656,\n",
       "  4.3426833152771,\n",
       "  4.296123027801514,\n",
       "  4.257638454437256,\n",
       "  4.2310614585876465,\n",
       "  4.198491096496582,\n",
       "  4.208527565002441,\n",
       "  4.217830657958984,\n",
       "  4.214414596557617,\n",
       "  4.205124378204346,\n",
       "  4.1849589347839355,\n",
       "  4.18153190612793,\n",
       "  4.19639253616333,\n",
       "  4.205109596252441,\n",
       "  4.2201433181762695,\n",
       "  4.186279773712158,\n",
       "  4.1973981857299805,\n",
       "  4.192226886749268,\n",
       "  4.196889877319336,\n",
       "  4.196407318115234,\n",
       "  4.2049241065979,\n",
       "  4.186830997467041,\n",
       "  4.184798717498779,\n",
       "  4.18795919418335,\n",
       "  4.194247722625732,\n",
       "  4.190702438354492,\n",
       "  4.1868367195129395,\n",
       "  4.208570957183838,\n",
       "  4.174648284912109,\n",
       "  4.155586242675781,\n",
       "  4.174625396728516,\n",
       "  4.187858581542969,\n",
       "  4.197626113891602,\n",
       "  4.181548595428467,\n",
       "  4.191376209259033,\n",
       "  4.1931376457214355,\n",
       "  4.183600425720215,\n",
       "  4.171450614929199,\n",
       "  4.199479579925537,\n",
       "  4.1839919090271,\n",
       "  4.19489860534668,\n",
       "  4.205111026763916,\n",
       "  4.1979899406433105,\n",
       "  4.1805243492126465,\n",
       "  4.171394348144531,\n",
       "  4.1970295906066895,\n",
       "  4.198763370513916,\n",
       "  4.186748027801514,\n",
       "  4.1985979080200195,\n",
       "  4.1935343742370605,\n",
       "  4.195126056671143,\n",
       "  4.2031049728393555,\n",
       "  4.177923202514648,\n",
       "  4.173656463623047,\n",
       "  4.170949459075928,\n",
       "  4.189269065856934,\n",
       "  4.195430278778076,\n",
       "  4.19588041305542,\n",
       "  4.19404935836792,\n",
       "  4.17639684677124,\n",
       "  4.198226451873779,\n",
       "  4.18195915222168,\n",
       "  4.191706657409668,\n",
       "  4.202821731567383,\n",
       "  4.182949542999268,\n",
       "  4.184169292449951,\n",
       "  4.194893836975098,\n",
       "  4.196141242980957,\n",
       "  4.19264554977417,\n",
       "  4.176393508911133]}"
      ]
     },
     "execution_count": 62,
     "metadata": {},
     "output_type": "execute_result"
    }
   ],
   "source": [
    "# dict has two list, loss and val_loss\n",
    "history.history"
   ]
  },
  {
   "cell_type": "code",
   "execution_count": 63,
   "id": "7cd80d14",
   "metadata": {
    "scrolled": true
   },
   "outputs": [
    {
     "data": {
      "image/png": "[encoded data removed]",
      "text/plain": [
       "<Figure size 432x288 with 1 Axes>"
      ]
     },
     "metadata": {
      "needs_background": "light"
     },
     "output_type": "display_data"
    }
   ],
   "source": [
    "def plot_loss(history):\n",
    "    plt.plot(history.history['loss'], label='loss')\n",
    "    plt.plot(history.history['val_loss'], label='val_loss')\n",
    "    plt.ylim([0,25])\n",
    "    plt.xlabel('Epoch')\n",
    "    plt.ylabel('Error [MPG]')\n",
    "    plt.legend()\n",
    "    plt.grid()\n",
    "    \n",
    "plot_loss(history)"
   ]
  },
  {
   "cell_type": "code",
   "execution_count": 64,
   "id": "f1e7c2b6",
   "metadata": {},
   "outputs": [],
   "source": [
    "# Create a dict to store the evaluation for each model\n",
    "test_results = {}"
   ]
  },
  {
   "cell_type": "code",
   "execution_count": 65,
   "id": "22cf83b1",
   "metadata": {},
   "outputs": [
    {
     "name": "stdout",
     "output_type": "stream",
     "text": [
      "3/3 [==============================] - 0s 5ms/step - loss: 3.6445\n"
     ]
    }
   ],
   "source": [
    "# Evaluate the model on the test data\n",
    "# Returns the loss value & metrics values for the model in test mode.\n",
    "\n",
    "test_results['Single_feature_Regression'] = single_feature_model.evaluate(test_features[feature], test_labels, verbose=1)"
   ]
  },
  {
   "cell_type": "code",
   "execution_count": 66,
   "id": "35a33360",
   "metadata": {},
   "outputs": [
    {
     "data": {
      "text/plain": [
       "3.6445250511169434"
      ]
     },
     "execution_count": 66,
     "metadata": {},
     "output_type": "execute_result"
    }
   ],
   "source": [
    "test_results['Single_feature_Regression'] "
   ]
  },
  {
   "cell_type": "code",
   "execution_count": 67,
   "id": "f67763ce",
   "metadata": {},
   "outputs": [
    {
     "data": {
      "text/plain": [
       "(48.0, 230.0)"
      ]
     },
     "execution_count": 67,
     "metadata": {},
     "output_type": "execute_result"
    }
   ],
   "source": [
    "np.min(test_features[feature]), np.max(test_features[feature])"
   ]
  },
  {
   "cell_type": "code",
   "execution_count": 68,
   "id": "1bd6fdc1",
   "metadata": {},
   "outputs": [
    {
     "data": {
      "image/png": "[encoded data removed]",
      "text/plain": [
       "<Figure size 720x720 with 1 Axes>"
      ]
     },
     "metadata": {
      "needs_background": "light"
     },
     "output_type": "display_data"
    }
   ],
   "source": [
    "# Predict and plot \n",
    "\n",
    "range_min = np.min(test_features[feature]) - 10\n",
    "range_max = np.max(test_features[feature]) + 10\n",
    "x = tf.linspace(range_min, range_max, 200)\n",
    "y = single_feature_model.predict(x)\n",
    "\n",
    "plot_feature(feature, x, y)"
   ]
  },
  {
   "cell_type": "code",
   "execution_count": 69,
   "id": "df0fd1f2",
   "metadata": {},
   "outputs": [],
   "source": [
    "# We see in the above graph that it doesn't fit well, so let's go for multiple inputs"
   ]
  },
  {
   "cell_type": "markdown",
   "id": "b8e335cd",
   "metadata": {},
   "source": [
    "## Linear regression with multiple inputs"
   ]
  },
  {
   "cell_type": "code",
   "execution_count": 70,
   "id": "3875534e",
   "metadata": {},
   "outputs": [],
   "source": [
    "# Model creation\n",
    "# We have 9 features\n",
    "M_input_normalizer = layers.Normalization(input_shape=[9,], axis=None)\n",
    "\n",
    "\n",
    "linear_model = tf.keras.Sequential([\n",
    "    M_input_normalizer,\n",
    "    layers.Dense(units=1)\n",
    "])"
   ]
  },
  {
   "cell_type": "code",
   "execution_count": 71,
   "id": "58dac5ab",
   "metadata": {},
   "outputs": [
    {
     "name": "stdout",
     "output_type": "stream",
     "text": [
      "Model: \"sequential_1\"\n",
      "_________________________________________________________________\n",
      " Layer (type)                Output Shape              Param #   \n",
      "=================================================================\n",
      " normalization_2 (Normalizat  (None, 9)                3         \n",
      " ion)                                                            \n",
      "                                                                 \n",
      " dense_1 (Dense)             (None, 1)                 10        \n",
      "                                                                 \n",
      "=================================================================\n",
      "Total params: 13\n",
      "Trainable params: 10\n",
      "Non-trainable params: 3\n",
      "_________________________________________________________________\n"
     ]
    }
   ],
   "source": [
    "linear_model.summary()"
   ]
  },
  {
   "cell_type": "code",
   "execution_count": 72,
   "id": "4c04e6a6",
   "metadata": {},
   "outputs": [
    {
     "data": {
      "text/html": [
       "<div>\n",
       "<style scoped>\n",
       "    .dataframe tbody tr th:only-of-type {\n",
       "        vertical-align: middle;\n",
       "    }\n",
       "\n",
       "    .dataframe tbody tr th {\n",
       "        vertical-align: top;\n",
       "    }\n",
       "\n",
       "    .dataframe thead th {\n",
       "        text-align: right;\n",
       "    }\n",
       "</style>\n",
       "<table border=\"1\" class=\"dataframe\">\n",
       "  <thead>\n",
       "    <tr style=\"text-align: right;\">\n",
       "      <th></th>\n",
       "      <th>Cylinders</th>\n",
       "      <th>Displacement</th>\n",
       "      <th>Horsepower</th>\n",
       "      <th>Weight</th>\n",
       "      <th>Acceleration</th>\n",
       "      <th>Model Year</th>\n",
       "      <th>USA</th>\n",
       "      <th>Europe</th>\n",
       "      <th>Japan</th>\n",
       "    </tr>\n",
       "  </thead>\n",
       "  <tbody>\n",
       "    <tr>\n",
       "      <th>146</th>\n",
       "      <td>4</td>\n",
       "      <td>90.0</td>\n",
       "      <td>75.0</td>\n",
       "      <td>2125.0</td>\n",
       "      <td>14.5</td>\n",
       "      <td>74</td>\n",
       "      <td>1</td>\n",
       "      <td>0</td>\n",
       "      <td>0</td>\n",
       "    </tr>\n",
       "    <tr>\n",
       "      <th>282</th>\n",
       "      <td>4</td>\n",
       "      <td>140.0</td>\n",
       "      <td>88.0</td>\n",
       "      <td>2890.0</td>\n",
       "      <td>17.3</td>\n",
       "      <td>79</td>\n",
       "      <td>1</td>\n",
       "      <td>0</td>\n",
       "      <td>0</td>\n",
       "    </tr>\n",
       "    <tr>\n",
       "      <th>69</th>\n",
       "      <td>8</td>\n",
       "      <td>350.0</td>\n",
       "      <td>160.0</td>\n",
       "      <td>4456.0</td>\n",
       "      <td>13.5</td>\n",
       "      <td>72</td>\n",
       "      <td>1</td>\n",
       "      <td>0</td>\n",
       "      <td>0</td>\n",
       "    </tr>\n",
       "    <tr>\n",
       "      <th>378</th>\n",
       "      <td>4</td>\n",
       "      <td>105.0</td>\n",
       "      <td>63.0</td>\n",
       "      <td>2125.0</td>\n",
       "      <td>14.7</td>\n",
       "      <td>82</td>\n",
       "      <td>1</td>\n",
       "      <td>0</td>\n",
       "      <td>0</td>\n",
       "    </tr>\n",
       "    <tr>\n",
       "      <th>331</th>\n",
       "      <td>4</td>\n",
       "      <td>97.0</td>\n",
       "      <td>67.0</td>\n",
       "      <td>2145.0</td>\n",
       "      <td>18.0</td>\n",
       "      <td>80</td>\n",
       "      <td>0</td>\n",
       "      <td>0</td>\n",
       "      <td>1</td>\n",
       "    </tr>\n",
       "    <tr>\n",
       "      <th>257</th>\n",
       "      <td>6</td>\n",
       "      <td>232.0</td>\n",
       "      <td>90.0</td>\n",
       "      <td>3210.0</td>\n",
       "      <td>17.2</td>\n",
       "      <td>78</td>\n",
       "      <td>1</td>\n",
       "      <td>0</td>\n",
       "      <td>0</td>\n",
       "    </tr>\n",
       "    <tr>\n",
       "      <th>310</th>\n",
       "      <td>4</td>\n",
       "      <td>89.0</td>\n",
       "      <td>60.0</td>\n",
       "      <td>1968.0</td>\n",
       "      <td>18.8</td>\n",
       "      <td>80</td>\n",
       "      <td>0</td>\n",
       "      <td>0</td>\n",
       "      <td>1</td>\n",
       "    </tr>\n",
       "    <tr>\n",
       "      <th>328</th>\n",
       "      <td>4</td>\n",
       "      <td>146.0</td>\n",
       "      <td>67.0</td>\n",
       "      <td>3250.0</td>\n",
       "      <td>21.8</td>\n",
       "      <td>80</td>\n",
       "      <td>0</td>\n",
       "      <td>1</td>\n",
       "      <td>0</td>\n",
       "    </tr>\n",
       "    <tr>\n",
       "      <th>125</th>\n",
       "      <td>6</td>\n",
       "      <td>198.0</td>\n",
       "      <td>95.0</td>\n",
       "      <td>3102.0</td>\n",
       "      <td>16.5</td>\n",
       "      <td>74</td>\n",
       "      <td>1</td>\n",
       "      <td>0</td>\n",
       "      <td>0</td>\n",
       "    </tr>\n",
       "    <tr>\n",
       "      <th>108</th>\n",
       "      <td>4</td>\n",
       "      <td>97.0</td>\n",
       "      <td>88.0</td>\n",
       "      <td>2279.0</td>\n",
       "      <td>19.0</td>\n",
       "      <td>73</td>\n",
       "      <td>0</td>\n",
       "      <td>0</td>\n",
       "      <td>1</td>\n",
       "    </tr>\n",
       "  </tbody>\n",
       "</table>\n",
       "</div>"
      ],
      "text/plain": [
       "     Cylinders  Displacement  Horsepower  Weight  Acceleration  Model Year  \\\n",
       "146          4          90.0        75.0  2125.0          14.5          74   \n",
       "282          4         140.0        88.0  2890.0          17.3          79   \n",
       "69           8         350.0       160.0  4456.0          13.5          72   \n",
       "378          4         105.0        63.0  2125.0          14.7          82   \n",
       "331          4          97.0        67.0  2145.0          18.0          80   \n",
       "257          6         232.0        90.0  3210.0          17.2          78   \n",
       "310          4          89.0        60.0  1968.0          18.8          80   \n",
       "328          4         146.0        67.0  3250.0          21.8          80   \n",
       "125          6         198.0        95.0  3102.0          16.5          74   \n",
       "108          4          97.0        88.0  2279.0          19.0          73   \n",
       "\n",
       "     USA  Europe  Japan  \n",
       "146    1       0      0  \n",
       "282    1       0      0  \n",
       "69     1       0      0  \n",
       "378    1       0      0  \n",
       "331    0       0      1  \n",
       "257    1       0      0  \n",
       "310    0       0      1  \n",
       "328    0       1      0  \n",
       "125    1       0      0  \n",
       "108    0       0      1  "
      ]
     },
     "execution_count": 72,
     "metadata": {},
     "output_type": "execute_result"
    }
   ],
   "source": [
    "train_features[:10]"
   ]
  },
  {
   "cell_type": "code",
   "execution_count": 73,
   "id": "49abf2e2",
   "metadata": {},
   "outputs": [
    {
     "data": {
      "text/plain": [
       "array([[  7.827],\n",
       "       [  1.228],\n",
       "       [-84.982],\n",
       "       [ -8.069],\n",
       "       [  1.577],\n",
       "       [-54.061],\n",
       "       [  0.496],\n",
       "       [  9.81 ],\n",
       "       [-30.923],\n",
       "       [ 13.077]], dtype=float32)"
      ]
     },
     "execution_count": 73,
     "metadata": {},
     "output_type": "execute_result"
    }
   ],
   "source": [
    "# Check the output before the training\n",
    "# When you call Model.predict on a batch of inputs, it produces units=1 outputs for each example:\n",
    "# Predict the first 10 values\n",
    "\n",
    "linear_model.predict(train_features[:10])\n"
   ]
  },
  {
   "cell_type": "code",
   "execution_count": 74,
   "id": "5d120c22",
   "metadata": {},
   "outputs": [
    {
     "data": {
      "text/plain": [
       "<tf.Variable 'dense_1/kernel:0' shape=(9, 1) dtype=float32, numpy=\n",
       "array([[ 0.486],\n",
       "       [-0.749],\n",
       "       [ 0.142],\n",
       "       [ 0.038],\n",
       "       [ 0.747],\n",
       "       [-0.388],\n",
       "       [ 0.342],\n",
       "       [-0.153],\n",
       "       [-0.57 ]], dtype=float32)>"
      ]
     },
     "execution_count": 74,
     "metadata": {},
     "output_type": "execute_result"
    }
   ],
   "source": [
    "# Print the weights of output unit\n",
    "linear_model.layers[1].kernel"
   ]
  },
  {
   "cell_type": "code",
   "execution_count": 75,
   "id": "35037a36",
   "metadata": {},
   "outputs": [],
   "source": [
    "linear_model.compile(\n",
    "    optimizer=tf.optimizers.Adam(learning_rate=0.01),\n",
    "    loss='mean_absolute_error')"
   ]
  },
  {
   "cell_type": "code",
   "execution_count": 76,
   "id": "151ca946",
   "metadata": {
    "scrolled": true
   },
   "outputs": [
    {
     "name": "stdout",
     "output_type": "stream",
     "text": [
      "Epoch 1/100\n",
      "8/8 - 1s - loss: 35.0157 - val_loss: 25.1817 - 665ms/epoch - 83ms/step\n",
      "Epoch 2/100\n",
      "8/8 - 0s - loss: 23.4282 - val_loss: 24.7222 - 47ms/epoch - 6ms/step\n",
      "Epoch 3/100\n",
      "8/8 - 0s - loss: 19.6595 - val_loss: 22.0487 - 55ms/epoch - 7ms/step\n",
      "Epoch 4/100\n",
      "8/8 - 0s - loss: 19.2048 - val_loss: 21.4945 - 54ms/epoch - 7ms/step\n",
      "Epoch 5/100\n",
      "8/8 - 0s - loss: 17.6291 - val_loss: 18.9676 - 73ms/epoch - 9ms/step\n",
      "Epoch 6/100\n",
      "8/8 - 0s - loss: 16.5396 - val_loss: 18.6956 - 72ms/epoch - 9ms/step\n",
      "Epoch 7/100\n",
      "8/8 - 0s - loss: 16.3329 - val_loss: 16.3279 - 65ms/epoch - 8ms/step\n",
      "Epoch 8/100\n",
      "8/8 - 0s - loss: 15.9812 - val_loss: 18.0435 - 74ms/epoch - 9ms/step\n",
      "Epoch 9/100\n",
      "8/8 - 0s - loss: 16.4476 - val_loss: 15.5222 - 56ms/epoch - 7ms/step\n",
      "Epoch 10/100\n",
      "8/8 - 0s - loss: 18.8598 - val_loss: 21.6961 - 69ms/epoch - 9ms/step\n",
      "Epoch 11/100\n",
      "8/8 - 0s - loss: 16.8906 - val_loss: 16.5101 - 54ms/epoch - 7ms/step\n",
      "Epoch 12/100\n",
      "8/8 - 0s - loss: 14.6269 - val_loss: 13.4497 - 51ms/epoch - 6ms/step\n",
      "Epoch 13/100\n",
      "8/8 - 0s - loss: 13.8201 - val_loss: 14.1458 - 52ms/epoch - 7ms/step\n",
      "Epoch 14/100\n",
      "8/8 - 0s - loss: 12.8862 - val_loss: 12.6892 - 62ms/epoch - 8ms/step\n",
      "Epoch 15/100\n",
      "8/8 - 0s - loss: 12.5575 - val_loss: 12.3737 - 64ms/epoch - 8ms/step\n",
      "Epoch 16/100\n",
      "8/8 - 0s - loss: 12.8963 - val_loss: 13.4371 - 68ms/epoch - 8ms/step\n",
      "Epoch 17/100\n",
      "8/8 - 0s - loss: 11.7142 - val_loss: 12.6533 - 60ms/epoch - 7ms/step\n",
      "Epoch 18/100\n",
      "8/8 - 0s - loss: 11.1461 - val_loss: 10.6923 - 58ms/epoch - 7ms/step\n",
      "Epoch 19/100\n",
      "8/8 - 0s - loss: 11.1147 - val_loss: 10.3489 - 57ms/epoch - 7ms/step\n",
      "Epoch 20/100\n",
      "8/8 - 0s - loss: 11.1104 - val_loss: 10.3123 - 49ms/epoch - 6ms/step\n",
      "Epoch 21/100\n",
      "8/8 - 0s - loss: 10.5455 - val_loss: 10.2051 - 64ms/epoch - 8ms/step\n",
      "Epoch 22/100\n",
      "8/8 - 0s - loss: 10.2383 - val_loss: 9.3539 - 50ms/epoch - 6ms/step\n",
      "Epoch 23/100\n",
      "8/8 - 0s - loss: 10.3046 - val_loss: 10.3828 - 53ms/epoch - 7ms/step\n",
      "Epoch 24/100\n",
      "8/8 - 0s - loss: 10.5774 - val_loss: 9.7024 - 71ms/epoch - 9ms/step\n",
      "Epoch 25/100\n",
      "8/8 - 0s - loss: 10.5534 - val_loss: 9.6647 - 50ms/epoch - 6ms/step\n",
      "Epoch 26/100\n",
      "8/8 - 0s - loss: 9.6621 - val_loss: 10.7704 - 51ms/epoch - 6ms/step\n",
      "Epoch 27/100\n",
      "8/8 - 0s - loss: 9.7859 - val_loss: 8.2453 - 59ms/epoch - 7ms/step\n",
      "Epoch 28/100\n",
      "8/8 - 0s - loss: 8.7624 - val_loss: 8.2934 - 54ms/epoch - 7ms/step\n",
      "Epoch 29/100\n",
      "8/8 - 0s - loss: 8.8477 - val_loss: 7.7921 - 68ms/epoch - 9ms/step\n",
      "Epoch 30/100\n",
      "8/8 - 0s - loss: 8.7776 - val_loss: 7.5639 - 56ms/epoch - 7ms/step\n",
      "Epoch 31/100\n",
      "8/8 - 0s - loss: 8.7226 - val_loss: 7.2687 - 52ms/epoch - 7ms/step\n",
      "Epoch 32/100\n",
      "8/8 - 0s - loss: 8.8563 - val_loss: 7.2284 - 59ms/epoch - 7ms/step\n",
      "Epoch 33/100\n",
      "8/8 - 0s - loss: 9.3588 - val_loss: 10.0181 - 52ms/epoch - 6ms/step\n",
      "Epoch 34/100\n",
      "8/8 - 0s - loss: 9.4263 - val_loss: 10.2011 - 63ms/epoch - 8ms/step\n",
      "Epoch 35/100\n",
      "8/8 - 0s - loss: 9.7080 - val_loss: 7.1484 - 78ms/epoch - 10ms/step\n",
      "Epoch 36/100\n",
      "8/8 - 0s - loss: 8.6768 - val_loss: 11.2970 - 85ms/epoch - 11ms/step\n",
      "Epoch 37/100\n",
      "8/8 - 0s - loss: 9.8986 - val_loss: 12.8138 - 87ms/epoch - 11ms/step\n",
      "Epoch 38/100\n",
      "8/8 - 0s - loss: 9.9032 - val_loss: 8.5920 - 72ms/epoch - 9ms/step\n",
      "Epoch 39/100\n",
      "8/8 - 0s - loss: 9.8523 - val_loss: 6.3274 - 75ms/epoch - 9ms/step\n",
      "Epoch 40/100\n",
      "8/8 - 0s - loss: 7.6006 - val_loss: 6.6340 - 44ms/epoch - 5ms/step\n",
      "Epoch 41/100\n",
      "8/8 - 0s - loss: 7.2630 - val_loss: 5.8722 - 57ms/epoch - 7ms/step\n",
      "Epoch 42/100\n",
      "8/8 - 0s - loss: 7.0382 - val_loss: 7.9920 - 51ms/epoch - 6ms/step\n",
      "Epoch 43/100\n",
      "8/8 - 0s - loss: 6.4567 - val_loss: 5.6620 - 49ms/epoch - 6ms/step\n",
      "Epoch 44/100\n",
      "8/8 - 0s - loss: 6.1643 - val_loss: 5.5807 - 49ms/epoch - 6ms/step\n",
      "Epoch 45/100\n",
      "8/8 - 0s - loss: 6.0540 - val_loss: 5.1434 - 59ms/epoch - 7ms/step\n",
      "Epoch 46/100\n",
      "8/8 - 0s - loss: 6.1790 - val_loss: 4.9780 - 59ms/epoch - 7ms/step\n",
      "Epoch 47/100\n",
      "8/8 - 0s - loss: 5.8564 - val_loss: 4.9926 - 69ms/epoch - 9ms/step\n",
      "Epoch 48/100\n",
      "8/8 - 0s - loss: 6.1152 - val_loss: 5.4044 - 69ms/epoch - 9ms/step\n",
      "Epoch 49/100\n",
      "8/8 - 0s - loss: 6.0372 - val_loss: 6.0231 - 76ms/epoch - 10ms/step\n",
      "Epoch 50/100\n",
      "8/8 - 0s - loss: 6.1350 - val_loss: 6.8470 - 72ms/epoch - 9ms/step\n",
      "Epoch 51/100\n",
      "8/8 - 0s - loss: 6.2475 - val_loss: 5.3460 - 40ms/epoch - 5ms/step\n",
      "Epoch 52/100\n",
      "8/8 - 0s - loss: 5.6657 - val_loss: 4.3895 - 63ms/epoch - 8ms/step\n",
      "Epoch 53/100\n",
      "8/8 - 0s - loss: 4.8966 - val_loss: 4.4677 - 52ms/epoch - 7ms/step\n",
      "Epoch 54/100\n",
      "8/8 - 0s - loss: 5.3024 - val_loss: 5.1934 - 82ms/epoch - 10ms/step\n",
      "Epoch 55/100\n",
      "8/8 - 0s - loss: 5.8474 - val_loss: 5.6125 - 53ms/epoch - 7ms/step\n",
      "Epoch 56/100\n",
      "8/8 - 0s - loss: 5.8243 - val_loss: 7.9886 - 66ms/epoch - 8ms/step\n",
      "Epoch 57/100\n",
      "8/8 - 0s - loss: 5.9326 - val_loss: 4.0575 - 64ms/epoch - 8ms/step\n",
      "Epoch 58/100\n",
      "8/8 - 0s - loss: 4.8297 - val_loss: 5.1456 - 54ms/epoch - 7ms/step\n",
      "Epoch 59/100\n",
      "8/8 - 0s - loss: 7.7627 - val_loss: 6.6145 - 59ms/epoch - 7ms/step\n",
      "Epoch 60/100\n",
      "8/8 - 0s - loss: 6.9226 - val_loss: 6.0051 - 45ms/epoch - 6ms/step\n",
      "Epoch 61/100\n",
      "8/8 - 0s - loss: 6.3126 - val_loss: 3.8226 - 49ms/epoch - 6ms/step\n",
      "Epoch 62/100\n",
      "8/8 - 0s - loss: 5.0411 - val_loss: 4.3716 - 40ms/epoch - 5ms/step\n",
      "Epoch 63/100\n",
      "8/8 - 0s - loss: 4.7759 - val_loss: 5.2451 - 84ms/epoch - 11ms/step\n",
      "Epoch 64/100\n",
      "8/8 - 0s - loss: 5.6898 - val_loss: 6.0570 - 106ms/epoch - 13ms/step\n",
      "Epoch 65/100\n",
      "8/8 - 0s - loss: 6.0628 - val_loss: 4.6801 - 84ms/epoch - 11ms/step\n",
      "Epoch 66/100\n",
      "8/8 - 0s - loss: 6.3448 - val_loss: 4.2191 - 55ms/epoch - 7ms/step\n",
      "Epoch 67/100\n",
      "8/8 - 0s - loss: 6.1509 - val_loss: 6.9217 - 42ms/epoch - 5ms/step\n",
      "Epoch 68/100\n",
      "8/8 - 0s - loss: 5.6062 - val_loss: 5.9712 - 54ms/epoch - 7ms/step\n",
      "Epoch 69/100\n",
      "8/8 - 0s - loss: 6.0792 - val_loss: 3.7347 - 53ms/epoch - 7ms/step\n",
      "Epoch 70/100\n",
      "8/8 - 0s - loss: 5.2379 - val_loss: 3.8581 - 60ms/epoch - 7ms/step\n",
      "Epoch 71/100\n",
      "8/8 - 0s - loss: 4.2256 - val_loss: 4.6471 - 56ms/epoch - 7ms/step\n",
      "Epoch 72/100\n",
      "8/8 - 0s - loss: 3.9523 - val_loss: 3.5737 - 54ms/epoch - 7ms/step\n",
      "Epoch 73/100\n",
      "8/8 - 0s - loss: 4.0449 - val_loss: 3.4964 - 73ms/epoch - 9ms/step\n",
      "Epoch 74/100\n",
      "8/8 - 0s - loss: 4.0354 - val_loss: 4.0431 - 53ms/epoch - 7ms/step\n",
      "Epoch 75/100\n",
      "8/8 - 0s - loss: 4.1394 - val_loss: 3.9946 - 60ms/epoch - 7ms/step\n",
      "Epoch 76/100\n",
      "8/8 - 0s - loss: 4.9506 - val_loss: 3.6169 - 49ms/epoch - 6ms/step\n",
      "Epoch 77/100\n",
      "8/8 - 0s - loss: 4.5790 - val_loss: 5.4350 - 47ms/epoch - 6ms/step\n",
      "Epoch 78/100\n",
      "8/8 - 0s - loss: 5.9082 - val_loss: 4.9300 - 53ms/epoch - 7ms/step\n",
      "Epoch 79/100\n",
      "8/8 - 0s - loss: 5.4695 - val_loss: 5.5767 - 54ms/epoch - 7ms/step\n",
      "Epoch 80/100\n",
      "8/8 - 0s - loss: 5.7234 - val_loss: 3.6220 - 73ms/epoch - 9ms/step\n",
      "Epoch 81/100\n",
      "8/8 - 0s - loss: 4.2384 - val_loss: 4.0950 - 56ms/epoch - 7ms/step\n",
      "Epoch 82/100\n",
      "8/8 - 0s - loss: 4.5076 - val_loss: 5.0504 - 48ms/epoch - 6ms/step\n",
      "Epoch 83/100\n",
      "8/8 - 0s - loss: 4.3761 - val_loss: 4.7119 - 47ms/epoch - 6ms/step\n",
      "Epoch 84/100\n",
      "8/8 - 0s - loss: 3.8143 - val_loss: 5.4202 - 70ms/epoch - 9ms/step\n",
      "Epoch 85/100\n",
      "8/8 - 0s - loss: 4.0828 - val_loss: 3.3888 - 64ms/epoch - 8ms/step\n",
      "Epoch 86/100\n",
      "8/8 - 0s - loss: 3.7620 - val_loss: 3.8526 - 51ms/epoch - 6ms/step\n",
      "Epoch 87/100\n",
      "8/8 - 0s - loss: 3.9206 - val_loss: 3.4467 - 57ms/epoch - 7ms/step\n",
      "Epoch 88/100\n",
      "8/8 - 0s - loss: 3.7115 - val_loss: 4.0384 - 48ms/epoch - 6ms/step\n",
      "Epoch 89/100\n",
      "8/8 - 0s - loss: 3.6608 - val_loss: 3.5925 - 66ms/epoch - 8ms/step\n",
      "Epoch 90/100\n",
      "8/8 - 0s - loss: 3.8720 - val_loss: 5.4748 - 66ms/epoch - 8ms/step\n",
      "Epoch 91/100\n",
      "8/8 - 0s - loss: 4.3560 - val_loss: 3.7390 - 52ms/epoch - 7ms/step\n",
      "Epoch 92/100\n",
      "8/8 - 0s - loss: 5.1527 - val_loss: 4.1970 - 54ms/epoch - 7ms/step\n",
      "Epoch 93/100\n",
      "8/8 - 0s - loss: 3.7294 - val_loss: 3.3427 - 54ms/epoch - 7ms/step\n",
      "Epoch 94/100\n",
      "8/8 - 0s - loss: 3.9994 - val_loss: 3.3246 - 55ms/epoch - 7ms/step\n",
      "Epoch 95/100\n",
      "8/8 - 0s - loss: 5.8119 - val_loss: 4.6254 - 61ms/epoch - 8ms/step\n",
      "Epoch 96/100\n",
      "8/8 - 0s - loss: 6.3873 - val_loss: 7.4037 - 79ms/epoch - 10ms/step\n",
      "Epoch 97/100\n",
      "8/8 - 0s - loss: 4.6506 - val_loss: 5.4576 - 64ms/epoch - 8ms/step\n",
      "Epoch 98/100\n",
      "8/8 - 0s - loss: 4.3593 - val_loss: 5.0853 - 60ms/epoch - 8ms/step\n",
      "Epoch 99/100\n",
      "8/8 - 0s - loss: 3.9372 - val_loss: 3.3326 - 69ms/epoch - 9ms/step\n",
      "Epoch 100/100\n",
      "8/8 - 0s - loss: 3.7488 - val_loss: 3.5280 - 65ms/epoch - 8ms/step\n"
     ]
    }
   ],
   "source": [
    "\n",
    "history = linear_model.fit(train_features,\n",
    "                 train_labels,\n",
    "                 epochs=100,\n",
    "                 verbose=2,\n",
    "                 # Calculate the validation on 20% of the training data\n",
    "                 validation_split=0.2\n",
    "                )\n"
   ]
  },
  {
   "cell_type": "code",
   "execution_count": 77,
   "id": "d22f2760",
   "metadata": {
    "scrolled": false
   },
   "outputs": [
    {
     "data": {
      "image/png": "[encoded data removed]",
      "text/plain": [
       "<Figure size 432x288 with 1 Axes>"
      ]
     },
     "metadata": {
      "needs_background": "light"
     },
     "output_type": "display_data"
    }
   ],
   "source": [
    "plot_loss(history)"
   ]
  },
  {
   "cell_type": "code",
   "execution_count": 78,
   "id": "0ed49f5d",
   "metadata": {},
   "outputs": [],
   "source": [
    "test_results['linear_model_MultipInputs'] = linear_model.evaluate(test_features, test_labels, verbose=0)"
   ]
  },
  {
   "cell_type": "code",
   "execution_count": 79,
   "id": "f0798dfb",
   "metadata": {},
   "outputs": [
    {
     "data": {
      "text/plain": [
       "{'Single_feature_Regression': 3.6445250511169434,\n",
       " 'linear_model_MultipInputs': 3.364621639251709}"
      ]
     },
     "execution_count": 79,
     "metadata": {},
     "output_type": "execute_result"
    }
   ],
   "source": [
    "test_results"
   ]
  },
  {
   "cell_type": "markdown",
   "id": "314b815a",
   "metadata": {},
   "source": [
    "## Regression with a deep neural network (DNN) with single feature"
   ]
  },
  {
   "cell_type": "code",
   "execution_count": 80,
   "id": "97fc4850",
   "metadata": {},
   "outputs": [],
   "source": [
    "# DNN\n",
    "\n",
    "dnn_model = keras.Sequential([\n",
    "    horsepower_normalizer, \n",
    "    layers.Dense(64, activation='relu'),\n",
    "    layers.Dense(64, activation= 'relu'),\n",
    "    layers.Dense(1)\n",
    "])"
   ]
  },
  {
   "cell_type": "code",
   "execution_count": 81,
   "id": "4b076fe1",
   "metadata": {},
   "outputs": [
    {
     "name": "stdout",
     "output_type": "stream",
     "text": [
      "Model: \"sequential_2\"\n",
      "_________________________________________________________________\n",
      " Layer (type)                Output Shape              Param #   \n",
      "=================================================================\n",
      " normalization_1 (Normalizat  (None, 1)                3         \n",
      " ion)                                                            \n",
      "                                                                 \n",
      " dense_2 (Dense)             (None, 64)                128       \n",
      "                                                                 \n",
      " dense_3 (Dense)             (None, 64)                4160      \n",
      "                                                                 \n",
      " dense_4 (Dense)             (None, 1)                 65        \n",
      "                                                                 \n",
      "=================================================================\n",
      "Total params: 4,356\n",
      "Trainable params: 4,353\n",
      "Non-trainable params: 3\n",
      "_________________________________________________________________\n"
     ]
    }
   ],
   "source": [
    "dnn_model.summary()"
   ]
  },
  {
   "cell_type": "code",
   "execution_count": 82,
   "id": "2585670b",
   "metadata": {},
   "outputs": [],
   "source": [
    "dnn_model.compile(loss='mean_absolute_error', optimizer= tf.keras.optimizers.Adam(learning_rate=0.001))"
   ]
  },
  {
   "cell_type": "code",
   "execution_count": 83,
   "id": "2a7c57be",
   "metadata": {},
   "outputs": [
    {
     "data": {
      "text/plain": [
       "'Horsepower'"
      ]
     },
     "execution_count": 83,
     "metadata": {},
     "output_type": "execute_result"
    }
   ],
   "source": [
    "feature"
   ]
  },
  {
   "cell_type": "code",
   "execution_count": 84,
   "id": "5e818830",
   "metadata": {
    "scrolled": true
   },
   "outputs": [
    {
     "name": "stdout",
     "output_type": "stream",
     "text": [
      "Epoch 1/100\n",
      "8/8 [==============================] - 1s 30ms/step - loss: 23.0331 - val_loss: 23.3806\n",
      "Epoch 2/100\n",
      "8/8 [==============================] - 0s 10ms/step - loss: 22.7541 - val_loss: 23.0644\n",
      "Epoch 3/100\n",
      "8/8 [==============================] - 0s 13ms/step - loss: 22.4284 - val_loss: 22.6927\n",
      "Epoch 4/100\n",
      "8/8 [==============================] - 0s 9ms/step - loss: 22.0401 - val_loss: 22.2168\n",
      "Epoch 5/100\n",
      "8/8 [==============================] - 0s 8ms/step - loss: 21.5325 - val_loss: 21.5922\n",
      "Epoch 6/100\n",
      "8/8 [==============================] - 0s 9ms/step - loss: 20.8631 - val_loss: 20.7898\n",
      "Epoch 7/100\n",
      "8/8 [==============================] - 0s 10ms/step - loss: 20.0087 - val_loss: 19.7729\n",
      "Epoch 8/100\n",
      "8/8 [==============================] - 0s 9ms/step - loss: 18.9531 - val_loss: 18.6078\n",
      "Epoch 9/100\n",
      "8/8 [==============================] - 0s 10ms/step - loss: 17.8408 - val_loss: 17.3563\n",
      "Epoch 10/100\n",
      "8/8 [==============================] - 0s 10ms/step - loss: 16.5211 - val_loss: 16.0630\n",
      "Epoch 11/100\n",
      "8/8 [==============================] - 0s 11ms/step - loss: 15.0392 - val_loss: 14.6336\n",
      "Epoch 12/100\n",
      "8/8 [==============================] - 0s 8ms/step - loss: 13.3127 - val_loss: 12.9919\n",
      "Epoch 13/100\n",
      "8/8 [==============================] - 0s 10ms/step - loss: 11.4254 - val_loss: 10.9388\n",
      "Epoch 14/100\n",
      "8/8 [==============================] - 0s 11ms/step - loss: 9.2721 - val_loss: 8.6388\n",
      "Epoch 15/100\n",
      "8/8 [==============================] - 0s 10ms/step - loss: 6.7700 - val_loss: 6.4675\n",
      "Epoch 16/100\n",
      "8/8 [==============================] - 0s 10ms/step - loss: 4.9025 - val_loss: 5.2854\n",
      "Epoch 17/100\n",
      "8/8 [==============================] - 0s 10ms/step - loss: 4.1284 - val_loss: 5.1538\n",
      "Epoch 18/100\n",
      "8/8 [==============================] - 0s 13ms/step - loss: 4.0371 - val_loss: 4.9841\n",
      "Epoch 19/100\n",
      "8/8 [==============================] - 0s 20ms/step - loss: 3.9241 - val_loss: 4.8307\n",
      "Epoch 20/100\n",
      "8/8 [==============================] - 0s 17ms/step - loss: 3.8777 - val_loss: 4.7304\n",
      "Epoch 21/100\n",
      "8/8 [==============================] - 0s 15ms/step - loss: 3.8205 - val_loss: 4.6636\n",
      "Epoch 22/100\n",
      "8/8 [==============================] - 0s 10ms/step - loss: 3.7556 - val_loss: 4.6427\n",
      "Epoch 23/100\n",
      "8/8 [==============================] - 0s 10ms/step - loss: 3.7166 - val_loss: 4.5670\n",
      "Epoch 24/100\n",
      "8/8 [==============================] - 0s 10ms/step - loss: 3.6812 - val_loss: 4.5193\n",
      "Epoch 25/100\n",
      "8/8 [==============================] - 0s 10ms/step - loss: 3.6459 - val_loss: 4.4530\n",
      "Epoch 26/100\n",
      "8/8 [==============================] - 0s 7ms/step - loss: 3.6165 - val_loss: 4.3986\n",
      "Epoch 27/100\n",
      "8/8 [==============================] - 0s 11ms/step - loss: 3.5887 - val_loss: 4.3473\n",
      "Epoch 28/100\n",
      "8/8 [==============================] - 0s 10ms/step - loss: 3.5604 - val_loss: 4.3082\n",
      "Epoch 29/100\n",
      "8/8 [==============================] - 0s 6ms/step - loss: 3.5333 - val_loss: 4.2580\n",
      "Epoch 30/100\n",
      "8/8 [==============================] - 0s 6ms/step - loss: 3.5201 - val_loss: 4.2162\n",
      "Epoch 31/100\n",
      "8/8 [==============================] - 0s 6ms/step - loss: 3.4969 - val_loss: 4.1823\n",
      "Epoch 32/100\n",
      "8/8 [==============================] - 0s 7ms/step - loss: 3.4913 - val_loss: 4.1522\n",
      "Epoch 33/100\n",
      "8/8 [==============================] - 0s 6ms/step - loss: 3.4664 - val_loss: 4.1255\n",
      "Epoch 34/100\n",
      "8/8 [==============================] - 0s 5ms/step - loss: 3.4493 - val_loss: 4.1037\n",
      "Epoch 35/100\n",
      "8/8 [==============================] - 0s 7ms/step - loss: 3.4383 - val_loss: 4.0823\n",
      "Epoch 36/100\n",
      "8/8 [==============================] - 0s 6ms/step - loss: 3.4249 - val_loss: 4.0547\n",
      "Epoch 37/100\n",
      "8/8 [==============================] - 0s 7ms/step - loss: 3.4192 - val_loss: 4.0369\n",
      "Epoch 38/100\n",
      "8/8 [==============================] - 0s 9ms/step - loss: 3.4011 - val_loss: 4.0159\n",
      "Epoch 39/100\n",
      "8/8 [==============================] - 0s 8ms/step - loss: 3.3966 - val_loss: 3.9998\n",
      "Epoch 40/100\n",
      "8/8 [==============================] - 0s 10ms/step - loss: 3.3780 - val_loss: 3.9769\n",
      "Epoch 41/100\n",
      "8/8 [==============================] - 0s 7ms/step - loss: 3.3654 - val_loss: 3.9561\n",
      "Epoch 42/100\n",
      "8/8 [==============================] - 0s 6ms/step - loss: 3.3567 - val_loss: 3.9370\n",
      "Epoch 43/100\n",
      "8/8 [==============================] - 0s 8ms/step - loss: 3.3478 - val_loss: 3.9276\n",
      "Epoch 44/100\n",
      "8/8 [==============================] - 0s 6ms/step - loss: 3.3393 - val_loss: 3.9116\n",
      "Epoch 45/100\n",
      "8/8 [==============================] - 0s 6ms/step - loss: 3.3355 - val_loss: 3.8948\n",
      "Epoch 46/100\n",
      "8/8 [==============================] - 0s 6ms/step - loss: 3.3375 - val_loss: 3.8823\n",
      "Epoch 47/100\n",
      "8/8 [==============================] - 0s 6ms/step - loss: 3.3318 - val_loss: 3.8727\n",
      "Epoch 48/100\n",
      "8/8 [==============================] - 0s 8ms/step - loss: 3.3264 - val_loss: 3.8584\n",
      "Epoch 49/100\n",
      "8/8 [==============================] - 0s 10ms/step - loss: 3.3100 - val_loss: 3.8491\n",
      "Epoch 50/100\n",
      "8/8 [==============================] - 0s 10ms/step - loss: 3.3121 - val_loss: 3.8379\n",
      "Epoch 51/100\n",
      "8/8 [==============================] - 0s 8ms/step - loss: 3.2979 - val_loss: 3.8236\n",
      "Epoch 52/100\n",
      "8/8 [==============================] - 0s 7ms/step - loss: 3.2930 - val_loss: 3.8142\n",
      "Epoch 53/100\n",
      "8/8 [==============================] - 0s 7ms/step - loss: 3.2914 - val_loss: 3.8054\n",
      "Epoch 54/100\n",
      "8/8 [==============================] - 0s 7ms/step - loss: 3.2867 - val_loss: 3.7981\n",
      "Epoch 55/100\n",
      "8/8 [==============================] - 0s 7ms/step - loss: 3.2851 - val_loss: 3.7915\n",
      "Epoch 56/100\n",
      "8/8 [==============================] - 0s 7ms/step - loss: 3.2823 - val_loss: 3.8022\n",
      "Epoch 57/100\n",
      "8/8 [==============================] - 0s 7ms/step - loss: 3.2818 - val_loss: 3.7913\n",
      "Epoch 58/100\n",
      "8/8 [==============================] - 0s 19ms/step - loss: 3.2747 - val_loss: 3.7771\n",
      "Epoch 59/100\n",
      "8/8 [==============================] - 0s 17ms/step - loss: 3.2750 - val_loss: 3.7790\n",
      "Epoch 60/100\n",
      "8/8 [==============================] - 0s 18ms/step - loss: 3.2744 - val_loss: 3.7911\n",
      "Epoch 61/100\n",
      "8/8 [==============================] - 0s 12ms/step - loss: 3.2730 - val_loss: 3.7731\n",
      "Epoch 62/100\n",
      "8/8 [==============================] - 0s 11ms/step - loss: 3.2791 - val_loss: 3.7622\n",
      "Epoch 63/100\n",
      "8/8 [==============================] - 0s 7ms/step - loss: 3.2752 - val_loss: 3.7819\n",
      "Epoch 64/100\n",
      "8/8 [==============================] - 0s 10ms/step - loss: 3.2795 - val_loss: 3.8101\n",
      "Epoch 65/100\n",
      "8/8 [==============================] - 0s 11ms/step - loss: 3.2667 - val_loss: 3.7725\n",
      "Epoch 66/100\n",
      "8/8 [==============================] - 0s 14ms/step - loss: 3.2684 - val_loss: 3.7798\n",
      "Epoch 67/100\n",
      "8/8 [==============================] - 0s 17ms/step - loss: 3.2982 - val_loss: 3.8069\n",
      "Epoch 68/100\n",
      "8/8 [==============================] - 0s 15ms/step - loss: 3.2664 - val_loss: 3.7882\n",
      "Epoch 69/100\n",
      "8/8 [==============================] - 0s 11ms/step - loss: 3.2659 - val_loss: 3.7612\n",
      "Epoch 70/100\n",
      "8/8 [==============================] - 0s 9ms/step - loss: 3.2699 - val_loss: 3.7822\n",
      "Epoch 71/100\n",
      "8/8 [==============================] - 0s 11ms/step - loss: 3.2718 - val_loss: 3.8105\n",
      "Epoch 72/100\n",
      "8/8 [==============================] - 0s 10ms/step - loss: 3.2651 - val_loss: 3.7856\n",
      "Epoch 73/100\n",
      "8/8 [==============================] - 0s 14ms/step - loss: 3.2694 - val_loss: 3.7551\n",
      "Epoch 74/100\n",
      "8/8 [==============================] - 0s 16ms/step - loss: 3.2657 - val_loss: 3.7597\n",
      "Epoch 75/100\n",
      "8/8 [==============================] - 0s 15ms/step - loss: 3.2702 - val_loss: 3.7784\n",
      "Epoch 76/100\n",
      "8/8 [==============================] - 0s 14ms/step - loss: 3.2535 - val_loss: 3.7961\n",
      "Epoch 77/100\n",
      "8/8 [==============================] - 0s 12ms/step - loss: 3.2613 - val_loss: 3.7699\n",
      "Epoch 78/100\n",
      "8/8 [==============================] - 0s 16ms/step - loss: 3.2564 - val_loss: 3.7716\n",
      "Epoch 79/100\n",
      "8/8 [==============================] - 0s 19ms/step - loss: 3.2557 - val_loss: 3.7941\n",
      "Epoch 80/100\n",
      "8/8 [==============================] - 0s 15ms/step - loss: 3.2646 - val_loss: 3.7818\n",
      "Epoch 81/100\n",
      "8/8 [==============================] - 0s 15ms/step - loss: 3.2486 - val_loss: 3.7636\n",
      "Epoch 82/100\n",
      "8/8 [==============================] - 0s 15ms/step - loss: 3.2637 - val_loss: 3.7756\n",
      "Epoch 83/100\n",
      "8/8 [==============================] - 0s 12ms/step - loss: 3.2508 - val_loss: 3.7601\n"
     ]
    },
    {
     "name": "stdout",
     "output_type": "stream",
     "text": [
      "Epoch 84/100\n",
      "8/8 [==============================] - 0s 15ms/step - loss: 3.2527 - val_loss: 3.7721\n",
      "Epoch 85/100\n",
      "8/8 [==============================] - 0s 18ms/step - loss: 3.2585 - val_loss: 3.7897\n",
      "Epoch 86/100\n",
      "8/8 [==============================] - 0s 28ms/step - loss: 3.2561 - val_loss: 3.7788\n",
      "Epoch 87/100\n",
      "8/8 [==============================] - 0s 14ms/step - loss: 3.2686 - val_loss: 3.7617\n",
      "Epoch 88/100\n",
      "8/8 [==============================] - 0s 19ms/step - loss: 3.2486 - val_loss: 3.7739\n",
      "Epoch 89/100\n",
      "8/8 [==============================] - 0s 19ms/step - loss: 3.2969 - val_loss: 3.7980\n",
      "Epoch 90/100\n",
      "8/8 [==============================] - 0s 18ms/step - loss: 3.2532 - val_loss: 3.7669\n",
      "Epoch 91/100\n",
      "8/8 [==============================] - 0s 18ms/step - loss: 3.2617 - val_loss: 3.7606\n",
      "Epoch 92/100\n",
      "8/8 [==============================] - 0s 24ms/step - loss: 3.2537 - val_loss: 3.7883\n",
      "Epoch 93/100\n",
      "8/8 [==============================] - 0s 14ms/step - loss: 3.2522 - val_loss: 3.7663\n",
      "Epoch 94/100\n",
      "8/8 [==============================] - 0s 16ms/step - loss: 3.2453 - val_loss: 3.7624\n",
      "Epoch 95/100\n",
      "8/8 [==============================] - 0s 13ms/step - loss: 3.2500 - val_loss: 3.7763\n",
      "Epoch 96/100\n",
      "8/8 [==============================] - 0s 12ms/step - loss: 3.2525 - val_loss: 3.7720\n",
      "Epoch 97/100\n",
      "8/8 [==============================] - 0s 15ms/step - loss: 3.2548 - val_loss: 3.7487\n",
      "Epoch 98/100\n",
      "8/8 [==============================] - 0s 14ms/step - loss: 3.2494 - val_loss: 3.7652\n",
      "Epoch 99/100\n",
      "8/8 [==============================] - 0s 11ms/step - loss: 3.2473 - val_loss: 3.7856\n",
      "Epoch 100/100\n",
      "8/8 [==============================] - 0s 10ms/step - loss: 3.2422 - val_loss: 3.7607\n"
     ]
    }
   ],
   "source": [
    "history_2 = dnn_model.fit(train_features[feature], train_labels, validation_split=0.2, verbose=1, epochs=100)"
   ]
  },
  {
   "cell_type": "code",
   "execution_count": 85,
   "id": "51ed7522",
   "metadata": {},
   "outputs": [
    {
     "data": {
      "image/png": "[encoded data removed]",
      "text/plain": [
       "<Figure size 432x288 with 1 Axes>"
      ]
     },
     "metadata": {
      "needs_background": "light"
     },
     "output_type": "display_data"
    }
   ],
   "source": [
    "plot_loss(history_2)"
   ]
  },
  {
   "cell_type": "code",
   "execution_count": 86,
   "id": "26a61a76",
   "metadata": {},
   "outputs": [
    {
     "data": {
      "image/png": "[encoded data removed]",
      "text/plain": [
       "<Figure size 720x720 with 1 Axes>"
      ]
     },
     "metadata": {
      "needs_background": "light"
     },
     "output_type": "display_data"
    }
   ],
   "source": [
    "# If you plot the predictions as a function of 'Horsepower', you should notice how this model takes advantage of the nonlinearity provided by the hidden layers:\n",
    "\n",
    "x = tf.linspace(range_min,range_max,200)\n",
    "y = dnn_model.predict(x)\n",
    "\n",
    "plot_feature(feature,x,y)"
   ]
  },
  {
   "cell_type": "code",
   "execution_count": 87,
   "id": "7061ab13",
   "metadata": {},
   "outputs": [
    {
     "name": "stdout",
     "output_type": "stream",
     "text": [
      "3/3 [==============================] - 0s 6ms/step - loss: 2.9101\n"
     ]
    }
   ],
   "source": [
    "# Collect the results on the test set for later:\n",
    "\n",
    "test_results['dnn_model_single_input'] = dnn_model.evaluate(test_features[feature], test_labels, verbose=1)"
   ]
  },
  {
   "cell_type": "code",
   "execution_count": 88,
   "id": "1949be98",
   "metadata": {},
   "outputs": [
    {
     "data": {
      "text/plain": [
       "{'Single_feature_Regression': 3.6445250511169434,\n",
       " 'linear_model_MultipInputs': 3.364621639251709,\n",
       " 'dnn_model_single_input': 2.910134792327881}"
      ]
     },
     "execution_count": 88,
     "metadata": {},
     "output_type": "execute_result"
    }
   ],
   "source": [
    "# Ahaa, we should have 3 values now\n",
    "test_results"
   ]
  },
  {
   "cell_type": "markdown",
   "id": "55b8d5fc",
   "metadata": {},
   "source": [
    "## Regression using a DNN and multiple inputs"
   ]
  },
  {
   "cell_type": "code",
   "execution_count": 89,
   "id": "a2556046",
   "metadata": {},
   "outputs": [],
   "source": [
    "horsepower_normalizer_1 = layers.Normalization(input_shape=[9,], axis=None)"
   ]
  },
  {
   "cell_type": "code",
   "execution_count": 90,
   "id": "49d24046",
   "metadata": {},
   "outputs": [],
   "source": [
    "# multiple input \n",
    "\n",
    "dnn_mi = tf.keras.Sequential([\n",
    "    horsepower_normalizer_1,\n",
    "    layers.Dense(units=1)\n",
    "])\n"
   ]
  },
  {
   "cell_type": "code",
   "execution_count": 91,
   "id": "519d2d7f",
   "metadata": {},
   "outputs": [
    {
     "name": "stdout",
     "output_type": "stream",
     "text": [
      "Model: \"sequential_3\"\n",
      "_________________________________________________________________\n",
      " Layer (type)                Output Shape              Param #   \n",
      "=================================================================\n",
      " normalization_3 (Normalizat  (None, 9)                3         \n",
      " ion)                                                            \n",
      "                                                                 \n",
      " dense_5 (Dense)             (None, 1)                 10        \n",
      "                                                                 \n",
      "=================================================================\n",
      "Total params: 13\n",
      "Trainable params: 10\n",
      "Non-trainable params: 3\n",
      "_________________________________________________________________\n"
     ]
    }
   ],
   "source": [
    "dnn_mi.summary()"
   ]
  },
  {
   "cell_type": "code",
   "execution_count": 101,
   "id": "8ab74e1f",
   "metadata": {},
   "outputs": [],
   "source": [
    "dnn_mi.compile(optimizer= tf.optimizers.Adam(learning_rate=0.001),loss='mean_absolute_error')"
   ]
  },
  {
   "cell_type": "code",
   "execution_count": 102,
   "id": "3e7077c6",
   "metadata": {
    "scrolled": true
   },
   "outputs": [
    {
     "name": "stdout",
     "output_type": "stream",
     "text": [
      "Epoch 1/100\n",
      "8/8 [==============================] - 0s 24ms/step - loss: 3.5389 - val_loss: 3.5956\n",
      "Epoch 2/100\n",
      "8/8 [==============================] - 0s 8ms/step - loss: 3.2430 - val_loss: 3.2509\n",
      "Epoch 3/100\n",
      "8/8 [==============================] - 0s 7ms/step - loss: 3.5043 - val_loss: 3.2903\n",
      "Epoch 4/100\n",
      "8/8 [==============================] - 0s 8ms/step - loss: 3.2875 - val_loss: 3.5830\n",
      "Epoch 5/100\n",
      "8/8 [==============================] - 0s 8ms/step - loss: 3.2537 - val_loss: 3.1338\n",
      "Epoch 6/100\n",
      "8/8 [==============================] - 0s 7ms/step - loss: 3.2624 - val_loss: 3.1147\n",
      "Epoch 7/100\n",
      "8/8 [==============================] - 0s 8ms/step - loss: 3.1430 - val_loss: 3.0723\n",
      "Epoch 8/100\n",
      "8/8 [==============================] - 0s 6ms/step - loss: 3.1250 - val_loss: 3.2570\n",
      "Epoch 9/100\n",
      "8/8 [==============================] - 0s 9ms/step - loss: 3.1365 - val_loss: 3.0653\n",
      "Epoch 10/100\n",
      "8/8 [==============================] - 0s 10ms/step - loss: 3.1051 - val_loss: 3.1739\n",
      "Epoch 11/100\n",
      "8/8 [==============================] - 0s 7ms/step - loss: 3.1017 - val_loss: 3.0631\n",
      "Epoch 12/100\n",
      "8/8 [==============================] - 0s 10ms/step - loss: 3.2114 - val_loss: 3.1193\n",
      "Epoch 13/100\n",
      "8/8 [==============================] - 0s 7ms/step - loss: 3.1762 - val_loss: 3.7791\n",
      "Epoch 14/100\n",
      "8/8 [==============================] - 0s 9ms/step - loss: 3.3194 - val_loss: 3.1327\n",
      "Epoch 15/100\n",
      "8/8 [==============================] - 0s 7ms/step - loss: 3.1342 - val_loss: 3.4041\n",
      "Epoch 16/100\n",
      "8/8 [==============================] - 0s 9ms/step - loss: 3.2417 - val_loss: 3.6496\n",
      "Epoch 17/100\n",
      "8/8 [==============================] - 0s 9ms/step - loss: 3.4321 - val_loss: 3.6200\n",
      "Epoch 18/100\n",
      "8/8 [==============================] - 0s 9ms/step - loss: 3.6966 - val_loss: 3.3649\n",
      "Epoch 19/100\n",
      "8/8 [==============================] - 0s 6ms/step - loss: 3.1906 - val_loss: 3.1748\n",
      "Epoch 20/100\n",
      "8/8 [==============================] - 0s 8ms/step - loss: 3.1518 - val_loss: 3.0907\n",
      "Epoch 21/100\n",
      "8/8 [==============================] - 0s 9ms/step - loss: 3.0925 - val_loss: 3.0605\n",
      "Epoch 22/100\n",
      "8/8 [==============================] - 0s 8ms/step - loss: 3.1143 - val_loss: 3.1594\n",
      "Epoch 23/100\n",
      "8/8 [==============================] - 0s 10ms/step - loss: 3.0902 - val_loss: 3.0420\n",
      "Epoch 24/100\n",
      "8/8 [==============================] - 0s 8ms/step - loss: 3.0952 - val_loss: 3.2862\n",
      "Epoch 25/100\n",
      "8/8 [==============================] - 0s 7ms/step - loss: 3.2158 - val_loss: 3.0543\n",
      "Epoch 26/100\n",
      "8/8 [==============================] - 0s 7ms/step - loss: 3.1398 - val_loss: 3.0569\n",
      "Epoch 27/100\n",
      "8/8 [==============================] - 0s 8ms/step - loss: 3.1535 - val_loss: 3.0875\n",
      "Epoch 28/100\n",
      "8/8 [==============================] - 0s 8ms/step - loss: 3.1012 - val_loss: 3.2785\n",
      "Epoch 29/100\n",
      "8/8 [==============================] - 0s 6ms/step - loss: 3.1195 - val_loss: 3.0403\n",
      "Epoch 30/100\n",
      "8/8 [==============================] - 0s 9ms/step - loss: 3.0475 - val_loss: 3.6721\n",
      "Epoch 31/100\n",
      "8/8 [==============================] - 0s 8ms/step - loss: 3.3458 - val_loss: 3.0673\n",
      "Epoch 32/100\n",
      "8/8 [==============================] - 0s 8ms/step - loss: 3.1742 - val_loss: 3.0712\n",
      "Epoch 33/100\n",
      "8/8 [==============================] - 0s 7ms/step - loss: 3.0764 - val_loss: 3.0838\n",
      "Epoch 34/100\n",
      "8/8 [==============================] - 0s 7ms/step - loss: 3.1784 - val_loss: 3.0424\n",
      "Epoch 35/100\n",
      "8/8 [==============================] - 0s 8ms/step - loss: 3.1822 - val_loss: 3.1379\n",
      "Epoch 36/100\n",
      "8/8 [==============================] - 0s 7ms/step - loss: 3.2269 - val_loss: 3.4847\n",
      "Epoch 37/100\n",
      "8/8 [==============================] - 0s 8ms/step - loss: 3.1609 - val_loss: 3.1530\n",
      "Epoch 38/100\n",
      "8/8 [==============================] - 0s 9ms/step - loss: 3.1283 - val_loss: 3.0333\n",
      "Epoch 39/100\n",
      "8/8 [==============================] - 0s 8ms/step - loss: 3.1129 - val_loss: 3.0224\n",
      "Epoch 40/100\n",
      "8/8 [==============================] - 0s 11ms/step - loss: 3.1238 - val_loss: 3.0843\n",
      "Epoch 41/100\n",
      "8/8 [==============================] - 0s 7ms/step - loss: 3.0913 - val_loss: 3.0173\n",
      "Epoch 42/100\n",
      "8/8 [==============================] - 0s 7ms/step - loss: 3.0736 - val_loss: 3.6558\n",
      "Epoch 43/100\n",
      "8/8 [==============================] - 0s 8ms/step - loss: 3.2022 - val_loss: 3.1394\n",
      "Epoch 44/100\n",
      "8/8 [==============================] - 0s 13ms/step - loss: 3.1181 - val_loss: 3.0493\n",
      "Epoch 45/100\n",
      "8/8 [==============================] - 0s 10ms/step - loss: 3.1352 - val_loss: 3.1246\n",
      "Epoch 46/100\n",
      "8/8 [==============================] - 0s 8ms/step - loss: 3.1166 - val_loss: 3.1043\n",
      "Epoch 47/100\n",
      "8/8 [==============================] - 0s 7ms/step - loss: 3.1539 - val_loss: 3.0215\n",
      "Epoch 48/100\n",
      "8/8 [==============================] - 0s 7ms/step - loss: 3.1119 - val_loss: 3.8264\n",
      "Epoch 49/100\n",
      "8/8 [==============================] - 0s 9ms/step - loss: 3.1610 - val_loss: 3.0278\n",
      "Epoch 50/100\n",
      "8/8 [==============================] - 0s 9ms/step - loss: 3.2318 - val_loss: 3.0782\n",
      "Epoch 51/100\n",
      "8/8 [==============================] - 0s 7ms/step - loss: 3.1775 - val_loss: 3.3728\n",
      "Epoch 52/100\n",
      "8/8 [==============================] - 0s 6ms/step - loss: 3.1774 - val_loss: 3.1461\n",
      "Epoch 53/100\n",
      "8/8 [==============================] - 0s 8ms/step - loss: 3.1121 - val_loss: 3.0296\n",
      "Epoch 54/100\n",
      "8/8 [==============================] - 0s 7ms/step - loss: 3.2088 - val_loss: 3.0262\n",
      "Epoch 55/100\n",
      "8/8 [==============================] - 0s 7ms/step - loss: 3.0501 - val_loss: 3.5045\n",
      "Epoch 56/100\n",
      "8/8 [==============================] - 0s 7ms/step - loss: 3.2419 - val_loss: 3.1197\n",
      "Epoch 57/100\n",
      "8/8 [==============================] - 0s 7ms/step - loss: 3.1059 - val_loss: 3.0022\n",
      "Epoch 58/100\n",
      "8/8 [==============================] - 0s 10ms/step - loss: 3.0585 - val_loss: 3.1203\n",
      "Epoch 59/100\n",
      "8/8 [==============================] - 0s 9ms/step - loss: 3.0966 - val_loss: 3.1168\n",
      "Epoch 60/100\n",
      "8/8 [==============================] - 0s 6ms/step - loss: 3.1096 - val_loss: 3.0370\n",
      "Epoch 61/100\n",
      "8/8 [==============================] - 0s 9ms/step - loss: 3.0774 - val_loss: 3.1597\n",
      "Epoch 62/100\n",
      "8/8 [==============================] - 0s 7ms/step - loss: 3.0812 - val_loss: 3.0276\n",
      "Epoch 63/100\n",
      "8/8 [==============================] - 0s 9ms/step - loss: 3.0673 - val_loss: 3.1349\n",
      "Epoch 64/100\n",
      "8/8 [==============================] - 0s 11ms/step - loss: 3.0508 - val_loss: 3.0251\n",
      "Epoch 65/100\n",
      "8/8 [==============================] - 0s 10ms/step - loss: 3.0522 - val_loss: 2.9943\n",
      "Epoch 66/100\n",
      "8/8 [==============================] - 0s 9ms/step - loss: 3.1065 - val_loss: 2.9931\n",
      "Epoch 67/100\n",
      "8/8 [==============================] - 0s 7ms/step - loss: 3.1100 - val_loss: 3.4226\n",
      "Epoch 68/100\n",
      "8/8 [==============================] - 0s 7ms/step - loss: 3.0175 - val_loss: 3.0495\n",
      "Epoch 69/100\n",
      "8/8 [==============================] - 0s 7ms/step - loss: 3.0953 - val_loss: 3.0091\n",
      "Epoch 70/100\n",
      "8/8 [==============================] - 0s 9ms/step - loss: 3.0478 - val_loss: 2.9993\n",
      "Epoch 71/100\n",
      "8/8 [==============================] - 0s 10ms/step - loss: 3.0614 - val_loss: 2.9866\n",
      "Epoch 72/100\n",
      "8/8 [==============================] - 0s 8ms/step - loss: 3.1466 - val_loss: 3.1603\n",
      "Epoch 73/100\n",
      "8/8 [==============================] - 0s 7ms/step - loss: 3.0683 - val_loss: 3.2319\n",
      "Epoch 74/100\n",
      "8/8 [==============================] - 0s 8ms/step - loss: 3.0911 - val_loss: 2.9813\n",
      "Epoch 75/100\n",
      "8/8 [==============================] - 0s 8ms/step - loss: 3.1686 - val_loss: 3.4366\n",
      "Epoch 76/100\n",
      "8/8 [==============================] - 0s 11ms/step - loss: 3.2972 - val_loss: 3.5064\n",
      "Epoch 77/100\n",
      "8/8 [==============================] - 0s 12ms/step - loss: 3.2359 - val_loss: 3.1020\n",
      "Epoch 78/100\n",
      "8/8 [==============================] - 0s 8ms/step - loss: 3.0816 - val_loss: 3.0716\n",
      "Epoch 79/100\n",
      "8/8 [==============================] - 0s 8ms/step - loss: 3.1224 - val_loss: 3.2639\n",
      "Epoch 80/100\n",
      "8/8 [==============================] - 0s 9ms/step - loss: 3.0884 - val_loss: 3.1534\n",
      "Epoch 81/100\n",
      "8/8 [==============================] - 0s 10ms/step - loss: 3.0513 - val_loss: 2.9777\n",
      "Epoch 82/100\n",
      "8/8 [==============================] - 0s 10ms/step - loss: 3.0628 - val_loss: 2.9765\n",
      "Epoch 83/100\n",
      "8/8 [==============================] - 0s 7ms/step - loss: 3.0308 - val_loss: 3.1649\n",
      "Epoch 84/100\n"
     ]
    },
    {
     "name": "stdout",
     "output_type": "stream",
     "text": [
      "8/8 [==============================] - 0s 6ms/step - loss: 3.0598 - val_loss: 3.1114\n",
      "Epoch 85/100\n",
      "8/8 [==============================] - 0s 9ms/step - loss: 3.0752 - val_loss: 3.1157\n",
      "Epoch 86/100\n",
      "8/8 [==============================] - 0s 8ms/step - loss: 3.1051 - val_loss: 3.2982\n",
      "Epoch 87/100\n",
      "8/8 [==============================] - 0s 10ms/step - loss: 3.0840 - val_loss: 3.0490\n",
      "Epoch 88/100\n",
      "8/8 [==============================] - 0s 11ms/step - loss: 3.1446 - val_loss: 2.9681\n",
      "Epoch 89/100\n",
      "8/8 [==============================] - 0s 7ms/step - loss: 3.1278 - val_loss: 3.0419\n",
      "Epoch 90/100\n",
      "8/8 [==============================] - 0s 6ms/step - loss: 3.0584 - val_loss: 3.1257\n",
      "Epoch 91/100\n",
      "8/8 [==============================] - 0s 7ms/step - loss: 3.0464 - val_loss: 3.0684\n",
      "Epoch 92/100\n",
      "8/8 [==============================] - 0s 9ms/step - loss: 3.1495 - val_loss: 2.9701\n",
      "Epoch 93/100\n",
      "8/8 [==============================] - 0s 10ms/step - loss: 3.2857 - val_loss: 3.5249\n",
      "Epoch 94/100\n",
      "8/8 [==============================] - 0s 7ms/step - loss: 3.2385 - val_loss: 3.4761\n",
      "Epoch 95/100\n",
      "8/8 [==============================] - 0s 10ms/step - loss: 3.0738 - val_loss: 2.9780\n",
      "Epoch 96/100\n",
      "8/8 [==============================] - 0s 7ms/step - loss: 3.0774 - val_loss: 3.0153\n",
      "Epoch 97/100\n",
      "8/8 [==============================] - 0s 8ms/step - loss: 3.1234 - val_loss: 3.6109\n",
      "Epoch 98/100\n",
      "8/8 [==============================] - 0s 8ms/step - loss: 3.2872 - val_loss: 3.1754\n",
      "Epoch 99/100\n",
      "8/8 [==============================] - 0s 9ms/step - loss: 3.1726 - val_loss: 3.0047\n",
      "Epoch 100/100\n",
      "8/8 [==============================] - 0s 9ms/step - loss: 3.2580 - val_loss: 3.4222\n"
     ]
    }
   ],
   "source": [
    "history_dnn_mi = dnn_mi.fit(\n",
    "    train_features, train_labels, \n",
    "    epochs=100,\n",
    "    verbose=1,\n",
    "    # Calculate validation results on 20% of the training data\n",
    "    validation_split = 0.2)"
   ]
  },
  {
   "cell_type": "code",
   "execution_count": 103,
   "id": "35df500d",
   "metadata": {},
   "outputs": [
    {
     "data": {
      "image/png": "[encoded data removed]",
      "text/plain": [
       "<Figure size 432x288 with 1 Axes>"
      ]
     },
     "metadata": {
      "needs_background": "light"
     },
     "output_type": "display_data"
    }
   ],
   "source": [
    "plot_loss(history_dnn_mi)"
   ]
  },
  {
   "cell_type": "code",
   "execution_count": 104,
   "id": "9f37ee47",
   "metadata": {},
   "outputs": [
    {
     "name": "stdout",
     "output_type": "stream",
     "text": [
      "3/3 - 0s - loss: 2.7347 - 38ms/epoch - 13ms/step\n"
     ]
    }
   ],
   "source": [
    "test_results['dnn_mi'] = dnn_mi.evaluate(test_features, test_labels, verbose=2)"
   ]
  },
  {
   "cell_type": "markdown",
   "id": "a8b1a440",
   "metadata": {},
   "source": [
    "# Performance"
   ]
  },
  {
   "cell_type": "code",
   "execution_count": 105,
   "id": "b67bc8ab",
   "metadata": {},
   "outputs": [
    {
     "data": {
      "text/html": [
       "<div>\n",
       "<style scoped>\n",
       "    .dataframe tbody tr th:only-of-type {\n",
       "        vertical-align: middle;\n",
       "    }\n",
       "\n",
       "    .dataframe tbody tr th {\n",
       "        vertical-align: top;\n",
       "    }\n",
       "\n",
       "    .dataframe thead th {\n",
       "        text-align: right;\n",
       "    }\n",
       "</style>\n",
       "<table border=\"1\" class=\"dataframe\">\n",
       "  <thead>\n",
       "    <tr style=\"text-align: right;\">\n",
       "      <th></th>\n",
       "      <th>Mean Absolute Error [MPG]</th>\n",
       "    </tr>\n",
       "  </thead>\n",
       "  <tbody>\n",
       "    <tr>\n",
       "      <th>Single_feature_Regression</th>\n",
       "      <td>3.644525</td>\n",
       "    </tr>\n",
       "    <tr>\n",
       "      <th>linear_model_MultipInputs</th>\n",
       "      <td>3.364622</td>\n",
       "    </tr>\n",
       "    <tr>\n",
       "      <th>dnn_model_single_input</th>\n",
       "      <td>2.910135</td>\n",
       "    </tr>\n",
       "    <tr>\n",
       "      <th>dnn_mi</th>\n",
       "      <td>2.734736</td>\n",
       "    </tr>\n",
       "  </tbody>\n",
       "</table>\n",
       "</div>"
      ],
      "text/plain": [
       "                           Mean Absolute Error [MPG]\n",
       "Single_feature_Regression                   3.644525\n",
       "linear_model_MultipInputs                   3.364622\n",
       "dnn_model_single_input                      2.910135\n",
       "dnn_mi                                      2.734736"
      ]
     },
     "execution_count": 105,
     "metadata": {},
     "output_type": "execute_result"
    }
   ],
   "source": [
    "pd.DataFrame(test_results, index=[\"Mean Absolute Error [MPG]\"]).T"
   ]
  },
  {
   "cell_type": "markdown",
   "id": "b0402da6",
   "metadata": {},
   "source": [
    "# Make predictions"
   ]
  },
  {
   "cell_type": "code",
   "execution_count": 106,
   "id": "07b66bcf",
   "metadata": {},
   "outputs": [
    {
     "data": {
      "text/plain": [
       "<function matplotlib.pyplot.axes(arg=None, **kwargs)>"
      ]
     },
     "execution_count": 106,
     "metadata": {},
     "output_type": "execute_result"
    }
   ],
   "source": [
    "plt.axes"
   ]
  },
  {
   "cell_type": "code",
   "execution_count": 107,
   "id": "241fbe02",
   "metadata": {},
   "outputs": [
    {
     "data": {
      "image/png": "[encoded data removed]",
      "text/plain": [
       "<Figure size 432x288 with 1 Axes>"
      ]
     },
     "metadata": {
      "needs_background": "light"
     },
     "output_type": "display_data"
    }
   ],
   "source": [
    "test_predictions = dnn_mi.predict(test_features).flatten()\n",
    "\n",
    "# Equal: set the aspect of the axis scaling, i.e. the ratio of y-unit to x-unit.\n",
    "\n",
    "a = plt.axes(aspect='equal')\n",
    "plt.scatter(test_labels, test_predictions)\n",
    "plt.xlabel('True Values [MPG]')\n",
    "plt.ylabel('Predictions [MPG]')\n",
    "lims = [0, 50]\n",
    "plt.xlim(lims)\n",
    "plt.ylim(lims)\n",
    "\n",
    "# Plot a line to split the square\n",
    "_ = plt.plot(lims, lims)"
   ]
  },
  {
   "cell_type": "code",
   "execution_count": 108,
   "id": "6969c75a",
   "metadata": {},
   "outputs": [],
   "source": [
    "# It appears that the model predicts reasonably well."
   ]
  },
  {
   "cell_type": "code",
   "execution_count": 109,
   "id": "b359d913",
   "metadata": {},
   "outputs": [
    {
     "data": {
      "text/plain": [
       "Text(0, 0.5, 'Count')"
      ]
     },
     "execution_count": 109,
     "metadata": {},
     "output_type": "execute_result"
    },
    {
     "data": {
      "image/png": "[encoded data removed]",
      "text/plain": [
       "<Figure size 432x288 with 1 Axes>"
      ]
     },
     "metadata": {
      "needs_background": "light"
     },
     "output_type": "display_data"
    }
   ],
   "source": [
    "## Check the distribution\n",
    "\n",
    "error = test_predictions - test_labels\n",
    "plt.hist(error, bins=25)\n",
    "plt.xlabel('Prediction Error [MPG]')\n",
    "plt.ylabel('Count')"
   ]
  },
  {
   "cell_type": "markdown",
   "id": "cd10856a",
   "metadata": {},
   "source": [
    "## Model saving"
   ]
  },
  {
   "cell_type": "code",
   "execution_count": 110,
   "id": "6b66ea2a",
   "metadata": {},
   "outputs": [
    {
     "name": "stdout",
     "output_type": "stream",
     "text": [
      "INFO:tensorflow:Assets written to: dnn_mi/assets\n"
     ]
    }
   ],
   "source": [
    "# Save the model\n",
    "dnn_mi.save('dnn_mi')"
   ]
  },
  {
   "cell_type": "code",
   "execution_count": 111,
   "id": "02477141",
   "metadata": {},
   "outputs": [],
   "source": [
    "# Relade the model\n",
    "\n",
    "reloaded = tf.keras.models.load_model('dnn_mi')\n",
    "\n",
    "test_results['reloaded'] = reloaded.evaluate(\n",
    "    test_features, test_labels, verbose=0)"
   ]
  },
  {
   "cell_type": "code",
   "execution_count": 112,
   "id": "2b653a7b",
   "metadata": {},
   "outputs": [
    {
     "data": {
      "text/plain": [
       "2.734736204147339"
      ]
     },
     "execution_count": 112,
     "metadata": {},
     "output_type": "execute_result"
    }
   ],
   "source": [
    "test_results['reloaded']"
   ]
  },
  {
   "cell_type": "code",
   "execution_count": 113,
   "id": "3909faa9",
   "metadata": {},
   "outputs": [
    {
     "data": {
      "text/html": [
       "<div>\n",
       "<style scoped>\n",
       "    .dataframe tbody tr th:only-of-type {\n",
       "        vertical-align: middle;\n",
       "    }\n",
       "\n",
       "    .dataframe tbody tr th {\n",
       "        vertical-align: top;\n",
       "    }\n",
       "\n",
       "    .dataframe thead th {\n",
       "        text-align: right;\n",
       "    }\n",
       "</style>\n",
       "<table border=\"1\" class=\"dataframe\">\n",
       "  <thead>\n",
       "    <tr style=\"text-align: right;\">\n",
       "      <th></th>\n",
       "      <th>Mean absolute error [MPG]</th>\n",
       "    </tr>\n",
       "  </thead>\n",
       "  <tbody>\n",
       "    <tr>\n",
       "      <th>Single_feature_Regression</th>\n",
       "      <td>3.644525</td>\n",
       "    </tr>\n",
       "    <tr>\n",
       "      <th>linear_model_MultipInputs</th>\n",
       "      <td>3.364622</td>\n",
       "    </tr>\n",
       "    <tr>\n",
       "      <th>dnn_model_single_input</th>\n",
       "      <td>2.910135</td>\n",
       "    </tr>\n",
       "    <tr>\n",
       "      <th>dnn_mi</th>\n",
       "      <td>2.734736</td>\n",
       "    </tr>\n",
       "    <tr>\n",
       "      <th>reloaded</th>\n",
       "      <td>2.734736</td>\n",
       "    </tr>\n",
       "  </tbody>\n",
       "</table>\n",
       "</div>"
      ],
      "text/plain": [
       "                           Mean absolute error [MPG]\n",
       "Single_feature_Regression                   3.644525\n",
       "linear_model_MultipInputs                   3.364622\n",
       "dnn_model_single_input                      2.910135\n",
       "dnn_mi                                      2.734736\n",
       "reloaded                                    2.734736"
      ]
     },
     "execution_count": 113,
     "metadata": {},
     "output_type": "execute_result"
    }
   ],
   "source": [
    "pd.DataFrame(test_results, index=['Mean absolute error [MPG]']).T\n"
   ]
  }
 ],
 "metadata": {
  "kernelspec": {
   "display_name": "Python 3 (ipykernel)",
   "language": "python",
   "name": "python3"
  },
  "language_info": {
   "codemirror_mode": {
    "name": "ipython",
    "version": 3
   },
   "file_extension": ".py",
   "mimetype": "text/x-python",
   "name": "python",
   "nbconvert_exporter": "python",
   "pygments_lexer": "ipython3",
   "version": "3.8.10"
  },
  "toc": {
   "base_numbering": 1,
   "nav_menu": {},
   "number_sections": false,
   "sideBar": true,
   "skip_h1_title": false,
   "title_cell": "Table of Contents",
   "title_sidebar": "Contents",
   "toc_cell": false,
   "toc_position": {},
   "toc_section_display": true,
   "toc_window_display": true
  }
 },
 "nbformat": 4,
 "nbformat_minor": 5
}
